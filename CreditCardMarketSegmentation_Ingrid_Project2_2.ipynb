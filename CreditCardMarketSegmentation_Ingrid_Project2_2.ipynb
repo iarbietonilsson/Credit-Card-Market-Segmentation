{
  "nbformat": 4,
  "nbformat_minor": 0,
  "metadata": {
    "colab": {
      "provenance": [],
      "authorship_tag": "ABX9TyOwD3bDXpHqOzjVh6DVPM80",
      "include_colab_link": true
    },
    "kernelspec": {
      "name": "python3",
      "display_name": "Python 3"
    },
    "language_info": {
      "name": "python"
    }
  },
  "cells": [
    {
      "cell_type": "markdown",
      "metadata": {
        "id": "view-in-github",
        "colab_type": "text"
      },
      "source": [
        "<a href=\"https://colab.research.google.com/github/iarbietonilsson/Credit-Card-Market-Segmentation/blob/main/CreditCardMarketSegmentation_Ingrid_Project2_2.ipynb\" target=\"_parent\"><img src=\"https://colab.research.google.com/assets/colab-badge.svg\" alt=\"Open In Colab\"/></a>"
      ]
    },
    {
      "cell_type": "markdown",
      "source": [
        "# **Credit Card Market Segmentation / Project 2 - Part 2 (Core)**\n",
        "\n",
        "---\n",
        "\n",
        "* ### Ingrid Arbieto Nelson"
      ],
      "metadata": {
        "id": "p7Mw9b6p7fWV"
      }
    },
    {
      "cell_type": "markdown",
      "source": [
        "# **Overview**\n",
        "\n",
        "---\n",
        "![image](https://drive.google.com/uc?id=1kRUsWwtU1KS6sgNJyHOgLpmphNLr1JS6)\n",
        "\n",
        "[**Image credit**](https://www.istockphoto.com/portfolio/alexialex?mediaty)\n",
        "##**Chosen Dataset : Predicting Credit Card Customer Segmentation** \n",
        "\n",
        "###**Part 1**\n",
        "\n",
        "---\n",
        "\n",
        "\n",
        "\n",
        "####**1 Source of data**\n",
        "*  [Credit Card Customer Segmentation](https://www.kaggle.com/datasets/thedevastator/predicting-credit-card-customer-attrition-with-m)\n",
        "   * [The Devastator](https://www.kaggle.com/thedevastator)\n",
        "\n",
        "####**2 Brief description of data**\n",
        "\n",
        "*This dataset contains a wealth of customer information collected from within a consumer credit card portfolio, with the aim of helping analysts predict customer attrition. It includes comprehensive demographic details such as age, gender, marital status and income category, as well as insight into each customer’s relationship with the credit card provider such as the card type, number of months on book and inactive periods. Additionally it holds key data about customers’ spending behavior drawing closer to their churn decision such as total revolving balance, credit limit, average open to buy rate and analyzable metrics like total amount of change from quarter 4 to quarter 1, average utilization ratio and Naive Bayes classifier attrition flag (Card category is combined with contacts count in 12months period alongside dependent count plus education level & months inactive). Faced with this set of useful predicted data points across multiple variables, capture up-to-date information that can determine long term account stability or an impending departure; therefore, offering us an equipped understanding when seeking to manage a portfolio or serve individual customers.*\n",
        "\n",
        "#### **3 What is the target?**\n",
        "\n",
        "*The target is whether the bank customer will churn.*\n",
        "\n",
        "**Attrition_Flag:** *Flag indicating whether a customer has churned out*\n",
        "\n",
        "#### **4 What does one row represent? *(A person? A business? An event? A product?)***\n",
        "\n",
        "*Each row represents a bank customer.*\n",
        "\n",
        "#### **5 Is this a classification or regression problem?**\n",
        "\n",
        "*This is a classification problem. The goal is to determine whether the bank customer has churned or not. This is a yes or no question.*\n",
        "\n",
        "#### **6 How many features does the data have?**\n",
        "\n",
        "*There are 20 features.*\n",
        "<br />\n",
        "\n",
        "#### ***Features:***\n",
        "\n",
        "---  \n",
        "\n",
        "![image](https://drive.google.com/uc?id=1BdR6oZbzLq5_G7bSbuDTgzO9MsNfHnWH)\n",
        "![image](https://drive.google.com/uc?id=1K9EBqKt0tl-nPodKxe822cirt7l7dhW-)\n",
        "<br />\n",
        "\n",
        "#### **7 How many rows are in the dataset?**\n",
        "\n",
        "*There are 10,127 rows.*\n",
        "\n",
        "#### **8 What, if any, challenges do you foresee in cleaning, exploring, or modeling this dataset?**\n",
        "\n",
        "* *There are numerous numerical & categorical columns to encode, which could be fun!*\n",
        "* *Attrition class is imbalanced, so this could cause some tuning of hyperparameter challenges in this assignment.*\n",
        "* *I'm curious about the Native Bayes Classifier Attrition Flag, and looking into what that means.*\n",
        "\n"
      ],
      "metadata": {
        "id": "KlebY8gwCuUr"
      }
    },
    {
      "cell_type": "markdown",
      "source": [
        "#**Data Cleaning & Exploratory Data Analysis (EDA)**\n",
        "\n",
        "---\n",
        "\n",
        "\n",
        "##**Assignment: Project 2 - Part 2**\n",
        "\n",
        "\n",
        "Using the approved dataset you proposed for project 2 part 1 last week, you will clean and explore the data set.\n",
        "\n",
        "To meet the requirements for this week you must have:\n",
        "\n",
        "* *Deleted unnecessary columns.*\n",
        "* *Deleted duplicate rows.*\n",
        "* *Identified and addressed missing values.*\n",
        "* *Identified and corrected inconsistencies in data for categorical values (i.e. Cat, cat, cats).*\n",
        "* *Produced univariate visuals for the target and all features.*\n",
        "* *Identified outliers.*\n",
        "* *Clearly commented all of your cleaning steps and described any decisions you made.*"
      ],
      "metadata": {
        "id": "yK4BuDFBdqfa"
      }
    },
    {
      "cell_type": "markdown",
      "source": [
        "###**Import Libraries**\n",
        "\n",
        "---\n",
        "\n"
      ],
      "metadata": {
        "id": "xZjEi5FqgV9n"
      }
    },
    {
      "cell_type": "code",
      "source": [
        "# Pandas\n",
        "import pandas as pd\n",
        "# Numpy\n",
        "import numpy as np\n",
        "## MatplotLib\n",
        "import matplotlib.pyplot as plt\n",
        "## Seaborn\n",
        "import seaborn as sns"
      ],
      "metadata": {
        "id": "jlqNFzrGfAP0"
      },
      "execution_count": 2,
      "outputs": []
    },
    {
      "cell_type": "markdown",
      "source": [
        "### **Load Data**\n",
        "\n",
        "---\n"
      ],
      "metadata": {
        "id": "l4wzHAzQhGL7"
      }
    },
    {
      "cell_type": "code",
      "source": [
        "file = 'https://docs.google.com/spreadsheets/d/e/2PACX-1vTJRlbZpZfRCHuwSt6HBuzDTp5y37PdIVLHRtk4uq4WgpZ1jttdnIlpkTys2LSqXEBELtg04ZZylJBU/pub?gid=468663766&single=true&output=csv'\n",
        "df = pd.read_csv(file)\n",
        "\n",
        "# display 1st 5 rows\n",
        "df.head()"
      ],
      "metadata": {
        "colab": {
          "base_uri": "https://localhost:8080/",
          "height": 386
        },
        "id": "avRa_Ppzex6F",
        "outputId": "c44ba1c0-cb9d-43be-b57f-3a3b26f9e4fa"
      },
      "execution_count": 3,
      "outputs": [
        {
          "output_type": "execute_result",
          "data": {
            "text/plain": [
              "   CLIENTNUM     Attrition_Flag  Customer_Age Gender  Dependent_count  \\\n",
              "0  768805383  Existing Customer            45      M                3   \n",
              "1  818770008  Existing Customer            49      F                5   \n",
              "2  713982108  Existing Customer            51      M                3   \n",
              "3  769911858  Existing Customer            40      F                4   \n",
              "4  709106358  Existing Customer            40      M                3   \n",
              "\n",
              "  Education_Level Marital_Status Income_Category Card_Category  \\\n",
              "0     High School        Married     $60K - $80K          Blue   \n",
              "1        Graduate         Single  Less than $40K          Blue   \n",
              "2        Graduate        Married    $80K - $120K          Blue   \n",
              "3     High School        Unknown  Less than $40K          Blue   \n",
              "4      Uneducated        Married     $60K - $80K          Blue   \n",
              "\n",
              "   Months_on_book  ...  Credit_Limit  Total_Revolving_Bal  Avg_Open_To_Buy  \\\n",
              "0              39  ...       12691.0                  777          11914.0   \n",
              "1              44  ...        8256.0                  864           7392.0   \n",
              "2              36  ...        3418.0                    0           3418.0   \n",
              "3              34  ...        3313.0                 2517            796.0   \n",
              "4              21  ...        4716.0                    0           4716.0   \n",
              "\n",
              "   Total_Amt_Chng_Q4_Q1  Total_Trans_Amt  Total_Trans_Ct  Total_Ct_Chng_Q4_Q1  \\\n",
              "0                 1.335             1144              42                1.625   \n",
              "1                 1.541             1291              33                3.714   \n",
              "2                 2.594             1887              20                2.333   \n",
              "3                 1.405             1171              20                2.333   \n",
              "4                 2.175              816              28                2.500   \n",
              "\n",
              "   Avg_Utilization_Ratio  \\\n",
              "0                  0.061   \n",
              "1                  0.105   \n",
              "2                  0.000   \n",
              "3                  0.760   \n",
              "4                  0.000   \n",
              "\n",
              "   Naive_Bayes_Classifier_Attrition_Flag_Card_Category_Contacts_Count_12_mon_Dependent_count_Education_Level_Months_Inactive_12_mon_1  \\\n",
              "0                                           0.000093                                                                                    \n",
              "1                                           0.000057                                                                                    \n",
              "2                                           0.000021                                                                                    \n",
              "3                                           0.000134                                                                                    \n",
              "4                                           0.000022                                                                                    \n",
              "\n",
              "   Naive_Bayes_Classifier_Attrition_Flag_Card_Category_Contacts_Count_12_mon_Dependent_count_Education_Level_Months_Inactive_12_mon_2  \n",
              "0                                            0.99991                                                                                   \n",
              "1                                            0.99994                                                                                   \n",
              "2                                            0.99998                                                                                   \n",
              "3                                            0.99987                                                                                   \n",
              "4                                            0.99998                                                                                   \n",
              "\n",
              "[5 rows x 23 columns]"
            ],
            "text/html": [
              "\n",
              "  <div id=\"df-2f41bd86-eaf1-4f6c-97a4-cd50f45b9a19\">\n",
              "    <div class=\"colab-df-container\">\n",
              "      <div>\n",
              "<style scoped>\n",
              "    .dataframe tbody tr th:only-of-type {\n",
              "        vertical-align: middle;\n",
              "    }\n",
              "\n",
              "    .dataframe tbody tr th {\n",
              "        vertical-align: top;\n",
              "    }\n",
              "\n",
              "    .dataframe thead th {\n",
              "        text-align: right;\n",
              "    }\n",
              "</style>\n",
              "<table border=\"1\" class=\"dataframe\">\n",
              "  <thead>\n",
              "    <tr style=\"text-align: right;\">\n",
              "      <th></th>\n",
              "      <th>CLIENTNUM</th>\n",
              "      <th>Attrition_Flag</th>\n",
              "      <th>Customer_Age</th>\n",
              "      <th>Gender</th>\n",
              "      <th>Dependent_count</th>\n",
              "      <th>Education_Level</th>\n",
              "      <th>Marital_Status</th>\n",
              "      <th>Income_Category</th>\n",
              "      <th>Card_Category</th>\n",
              "      <th>Months_on_book</th>\n",
              "      <th>...</th>\n",
              "      <th>Credit_Limit</th>\n",
              "      <th>Total_Revolving_Bal</th>\n",
              "      <th>Avg_Open_To_Buy</th>\n",
              "      <th>Total_Amt_Chng_Q4_Q1</th>\n",
              "      <th>Total_Trans_Amt</th>\n",
              "      <th>Total_Trans_Ct</th>\n",
              "      <th>Total_Ct_Chng_Q4_Q1</th>\n",
              "      <th>Avg_Utilization_Ratio</th>\n",
              "      <th>Naive_Bayes_Classifier_Attrition_Flag_Card_Category_Contacts_Count_12_mon_Dependent_count_Education_Level_Months_Inactive_12_mon_1</th>\n",
              "      <th>Naive_Bayes_Classifier_Attrition_Flag_Card_Category_Contacts_Count_12_mon_Dependent_count_Education_Level_Months_Inactive_12_mon_2</th>\n",
              "    </tr>\n",
              "  </thead>\n",
              "  <tbody>\n",
              "    <tr>\n",
              "      <th>0</th>\n",
              "      <td>768805383</td>\n",
              "      <td>Existing Customer</td>\n",
              "      <td>45</td>\n",
              "      <td>M</td>\n",
              "      <td>3</td>\n",
              "      <td>High School</td>\n",
              "      <td>Married</td>\n",
              "      <td>$60K - $80K</td>\n",
              "      <td>Blue</td>\n",
              "      <td>39</td>\n",
              "      <td>...</td>\n",
              "      <td>12691.0</td>\n",
              "      <td>777</td>\n",
              "      <td>11914.0</td>\n",
              "      <td>1.335</td>\n",
              "      <td>1144</td>\n",
              "      <td>42</td>\n",
              "      <td>1.625</td>\n",
              "      <td>0.061</td>\n",
              "      <td>0.000093</td>\n",
              "      <td>0.99991</td>\n",
              "    </tr>\n",
              "    <tr>\n",
              "      <th>1</th>\n",
              "      <td>818770008</td>\n",
              "      <td>Existing Customer</td>\n",
              "      <td>49</td>\n",
              "      <td>F</td>\n",
              "      <td>5</td>\n",
              "      <td>Graduate</td>\n",
              "      <td>Single</td>\n",
              "      <td>Less than $40K</td>\n",
              "      <td>Blue</td>\n",
              "      <td>44</td>\n",
              "      <td>...</td>\n",
              "      <td>8256.0</td>\n",
              "      <td>864</td>\n",
              "      <td>7392.0</td>\n",
              "      <td>1.541</td>\n",
              "      <td>1291</td>\n",
              "      <td>33</td>\n",
              "      <td>3.714</td>\n",
              "      <td>0.105</td>\n",
              "      <td>0.000057</td>\n",
              "      <td>0.99994</td>\n",
              "    </tr>\n",
              "    <tr>\n",
              "      <th>2</th>\n",
              "      <td>713982108</td>\n",
              "      <td>Existing Customer</td>\n",
              "      <td>51</td>\n",
              "      <td>M</td>\n",
              "      <td>3</td>\n",
              "      <td>Graduate</td>\n",
              "      <td>Married</td>\n",
              "      <td>$80K - $120K</td>\n",
              "      <td>Blue</td>\n",
              "      <td>36</td>\n",
              "      <td>...</td>\n",
              "      <td>3418.0</td>\n",
              "      <td>0</td>\n",
              "      <td>3418.0</td>\n",
              "      <td>2.594</td>\n",
              "      <td>1887</td>\n",
              "      <td>20</td>\n",
              "      <td>2.333</td>\n",
              "      <td>0.000</td>\n",
              "      <td>0.000021</td>\n",
              "      <td>0.99998</td>\n",
              "    </tr>\n",
              "    <tr>\n",
              "      <th>3</th>\n",
              "      <td>769911858</td>\n",
              "      <td>Existing Customer</td>\n",
              "      <td>40</td>\n",
              "      <td>F</td>\n",
              "      <td>4</td>\n",
              "      <td>High School</td>\n",
              "      <td>Unknown</td>\n",
              "      <td>Less than $40K</td>\n",
              "      <td>Blue</td>\n",
              "      <td>34</td>\n",
              "      <td>...</td>\n",
              "      <td>3313.0</td>\n",
              "      <td>2517</td>\n",
              "      <td>796.0</td>\n",
              "      <td>1.405</td>\n",
              "      <td>1171</td>\n",
              "      <td>20</td>\n",
              "      <td>2.333</td>\n",
              "      <td>0.760</td>\n",
              "      <td>0.000134</td>\n",
              "      <td>0.99987</td>\n",
              "    </tr>\n",
              "    <tr>\n",
              "      <th>4</th>\n",
              "      <td>709106358</td>\n",
              "      <td>Existing Customer</td>\n",
              "      <td>40</td>\n",
              "      <td>M</td>\n",
              "      <td>3</td>\n",
              "      <td>Uneducated</td>\n",
              "      <td>Married</td>\n",
              "      <td>$60K - $80K</td>\n",
              "      <td>Blue</td>\n",
              "      <td>21</td>\n",
              "      <td>...</td>\n",
              "      <td>4716.0</td>\n",
              "      <td>0</td>\n",
              "      <td>4716.0</td>\n",
              "      <td>2.175</td>\n",
              "      <td>816</td>\n",
              "      <td>28</td>\n",
              "      <td>2.500</td>\n",
              "      <td>0.000</td>\n",
              "      <td>0.000022</td>\n",
              "      <td>0.99998</td>\n",
              "    </tr>\n",
              "  </tbody>\n",
              "</table>\n",
              "<p>5 rows × 23 columns</p>\n",
              "</div>\n",
              "      <button class=\"colab-df-convert\" onclick=\"convertToInteractive('df-2f41bd86-eaf1-4f6c-97a4-cd50f45b9a19')\"\n",
              "              title=\"Convert this dataframe to an interactive table.\"\n",
              "              style=\"display:none;\">\n",
              "        \n",
              "  <svg xmlns=\"http://www.w3.org/2000/svg\" height=\"24px\"viewBox=\"0 0 24 24\"\n",
              "       width=\"24px\">\n",
              "    <path d=\"M0 0h24v24H0V0z\" fill=\"none\"/>\n",
              "    <path d=\"M18.56 5.44l.94 2.06.94-2.06 2.06-.94-2.06-.94-.94-2.06-.94 2.06-2.06.94zm-11 1L8.5 8.5l.94-2.06 2.06-.94-2.06-.94L8.5 2.5l-.94 2.06-2.06.94zm10 10l.94 2.06.94-2.06 2.06-.94-2.06-.94-.94-2.06-.94 2.06-2.06.94z\"/><path d=\"M17.41 7.96l-1.37-1.37c-.4-.4-.92-.59-1.43-.59-.52 0-1.04.2-1.43.59L10.3 9.45l-7.72 7.72c-.78.78-.78 2.05 0 2.83L4 21.41c.39.39.9.59 1.41.59.51 0 1.02-.2 1.41-.59l7.78-7.78 2.81-2.81c.8-.78.8-2.07 0-2.86zM5.41 20L4 18.59l7.72-7.72 1.47 1.35L5.41 20z\"/>\n",
              "  </svg>\n",
              "      </button>\n",
              "      \n",
              "  <style>\n",
              "    .colab-df-container {\n",
              "      display:flex;\n",
              "      flex-wrap:wrap;\n",
              "      gap: 12px;\n",
              "    }\n",
              "\n",
              "    .colab-df-convert {\n",
              "      background-color: #E8F0FE;\n",
              "      border: none;\n",
              "      border-radius: 50%;\n",
              "      cursor: pointer;\n",
              "      display: none;\n",
              "      fill: #1967D2;\n",
              "      height: 32px;\n",
              "      padding: 0 0 0 0;\n",
              "      width: 32px;\n",
              "    }\n",
              "\n",
              "    .colab-df-convert:hover {\n",
              "      background-color: #E2EBFA;\n",
              "      box-shadow: 0px 1px 2px rgba(60, 64, 67, 0.3), 0px 1px 3px 1px rgba(60, 64, 67, 0.15);\n",
              "      fill: #174EA6;\n",
              "    }\n",
              "\n",
              "    [theme=dark] .colab-df-convert {\n",
              "      background-color: #3B4455;\n",
              "      fill: #D2E3FC;\n",
              "    }\n",
              "\n",
              "    [theme=dark] .colab-df-convert:hover {\n",
              "      background-color: #434B5C;\n",
              "      box-shadow: 0px 1px 3px 1px rgba(0, 0, 0, 0.15);\n",
              "      filter: drop-shadow(0px 1px 2px rgba(0, 0, 0, 0.3));\n",
              "      fill: #FFFFFF;\n",
              "    }\n",
              "  </style>\n",
              "\n",
              "      <script>\n",
              "        const buttonEl =\n",
              "          document.querySelector('#df-2f41bd86-eaf1-4f6c-97a4-cd50f45b9a19 button.colab-df-convert');\n",
              "        buttonEl.style.display =\n",
              "          google.colab.kernel.accessAllowed ? 'block' : 'none';\n",
              "\n",
              "        async function convertToInteractive(key) {\n",
              "          const element = document.querySelector('#df-2f41bd86-eaf1-4f6c-97a4-cd50f45b9a19');\n",
              "          const dataTable =\n",
              "            await google.colab.kernel.invokeFunction('convertToInteractive',\n",
              "                                                     [key], {});\n",
              "          if (!dataTable) return;\n",
              "\n",
              "          const docLinkHtml = 'Like what you see? Visit the ' +\n",
              "            '<a target=\"_blank\" href=https://colab.research.google.com/notebooks/data_table.ipynb>data table notebook</a>'\n",
              "            + ' to learn more about interactive tables.';\n",
              "          element.innerHTML = '';\n",
              "          dataTable['output_type'] = 'display_data';\n",
              "          await google.colab.output.renderOutput(dataTable, element);\n",
              "          const docLink = document.createElement('div');\n",
              "          docLink.innerHTML = docLinkHtml;\n",
              "          element.appendChild(docLink);\n",
              "        }\n",
              "      </script>\n",
              "    </div>\n",
              "  </div>\n",
              "  "
            ]
          },
          "metadata": {},
          "execution_count": 3
        }
      ]
    },
    {
      "cell_type": "markdown",
      "source": [
        "* Data appears to have loaded correctly.\n",
        "* We are unable to view all the columns.\n",
        "* Naive Bayes Classifier Attrition Flags have long names. *(for inactive years 1 & 2)*\n",
        "  *  *Shorten Naive Bayes Classifier Attrition column names for readability.* "
      ],
      "metadata": {
        "id": "CQAQSyZziVd7"
      }
    },
    {
      "cell_type": "code",
      "source": [
        "## Display the number of rows and columns for the dataframe\n",
        "df.shape\n",
        "print(f'There are {df.shape[0]} rows, and {df.shape[1]} columns.')\n",
        "print(f\"The rows represent {df.shape[0]} observations, and the columns represent {df.shape[1]-1} features and 1 target variable, 'Attrition Flag'.\")"
      ],
      "metadata": {
        "colab": {
          "base_uri": "https://localhost:8080/"
        },
        "id": "1l86CZmCseHu",
        "outputId": "395cbebd-76d3-40da-c39c-32b730907b02"
      },
      "execution_count": 4,
      "outputs": [
        {
          "output_type": "stream",
          "name": "stdout",
          "text": [
            "There are 10127 rows, and 23 columns.\n",
            "The rows represent 10127 observations, and the columns represent 22 features and 1 target variable, 'Attrition Flag'.\n"
          ]
        }
      ]
    },
    {
      "cell_type": "markdown",
      "source": [
        "### **Set Display Options**\n",
        "\n",
        "---\n",
        "\n"
      ],
      "metadata": {
        "id": "fU02ACCLib4B"
      }
    },
    {
      "cell_type": "code",
      "source": [
        "## Display all columns\n",
        "pd.set_option('display.max_column', None)"
      ],
      "metadata": {
        "id": "sLVb63jjii2_"
      },
      "execution_count": 5,
      "outputs": []
    },
    {
      "cell_type": "markdown",
      "source": [
        "### **Shorten Naive Bayes Classifier Attrition Flag Inactive Years 1 & 2 Names**\n",
        "\n",
        "---\n",
        "\n"
      ],
      "metadata": {
        "id": "v3p4FQ4onZvk"
      }
    },
    {
      "cell_type": "code",
      "source": [
        "# show column names\n",
        "df.columns"
      ],
      "metadata": {
        "colab": {
          "base_uri": "https://localhost:8080/"
        },
        "id": "gJnhlel8nPXO",
        "outputId": "26a8efbe-4cdd-4e8a-8783-a973acf9ab81"
      },
      "execution_count": 6,
      "outputs": [
        {
          "output_type": "execute_result",
          "data": {
            "text/plain": [
              "Index(['CLIENTNUM', 'Attrition_Flag', 'Customer_Age', 'Gender',\n",
              "       'Dependent_count', 'Education_Level', 'Marital_Status',\n",
              "       'Income_Category', 'Card_Category', 'Months_on_book',\n",
              "       'Total_Relationship_Count', 'Months_Inactive_12_mon',\n",
              "       'Contacts_Count_12_mon', 'Credit_Limit', 'Total_Revolving_Bal',\n",
              "       'Avg_Open_To_Buy', 'Total_Amt_Chng_Q4_Q1', 'Total_Trans_Amt',\n",
              "       'Total_Trans_Ct', 'Total_Ct_Chng_Q4_Q1', 'Avg_Utilization_Ratio',\n",
              "       'Naive_Bayes_Classifier_Attrition_Flag_Card_Category_Contacts_Count_12_mon_Dependent_count_Education_Level_Months_Inactive_12_mon_1',\n",
              "       'Naive_Bayes_Classifier_Attrition_Flag_Card_Category_Contacts_Count_12_mon_Dependent_count_Education_Level_Months_Inactive_12_mon_2'],\n",
              "      dtype='object')"
            ]
          },
          "metadata": {},
          "execution_count": 6
        }
      ]
    },
    {
      "cell_type": "code",
      "source": [
        "## Rename Naive Bayes Classifier Attribution Flag month 1\n",
        "df.rename(columns={'Naive_Bayes_Classifier_Attrition_Flag_Card_Category_Contacts_Count_12_mon_Dependent_count_Education_Level_Months_Inactive_12_mon_1': 'Naive_Bayes_Classifier_Attrition_Flag_Inactive_1Year',\n",
        "                   'Naive_Bayes_Classifier_Attrition_Flag_Card_Category_Contacts_Count_12_mon_Dependent_count_Education_Level_Months_Inactive_12_mon_2': 'Naive_Bayes_Classifier_Attrition_Flag_Inactive_2Year'},inplace=True)"
      ],
      "metadata": {
        "id": "XJ7mr1DQkaHB"
      },
      "execution_count": 7,
      "outputs": []
    },
    {
      "cell_type": "code",
      "source": [
        "# display 1st 5 rows\n",
        "df.head()"
      ],
      "metadata": {
        "colab": {
          "base_uri": "https://localhost:8080/",
          "height": 357
        },
        "id": "53Q3XuYLin2x",
        "outputId": "a945ad82-9c62-41c8-afbf-cd9ac40ab1e4"
      },
      "execution_count": 8,
      "outputs": [
        {
          "output_type": "execute_result",
          "data": {
            "text/plain": [
              "   CLIENTNUM     Attrition_Flag  Customer_Age Gender  Dependent_count  \\\n",
              "0  768805383  Existing Customer            45      M                3   \n",
              "1  818770008  Existing Customer            49      F                5   \n",
              "2  713982108  Existing Customer            51      M                3   \n",
              "3  769911858  Existing Customer            40      F                4   \n",
              "4  709106358  Existing Customer            40      M                3   \n",
              "\n",
              "  Education_Level Marital_Status Income_Category Card_Category  \\\n",
              "0     High School        Married     $60K - $80K          Blue   \n",
              "1        Graduate         Single  Less than $40K          Blue   \n",
              "2        Graduate        Married    $80K - $120K          Blue   \n",
              "3     High School        Unknown  Less than $40K          Blue   \n",
              "4      Uneducated        Married     $60K - $80K          Blue   \n",
              "\n",
              "   Months_on_book  Total_Relationship_Count  Months_Inactive_12_mon  \\\n",
              "0              39                         5                       1   \n",
              "1              44                         6                       1   \n",
              "2              36                         4                       1   \n",
              "3              34                         3                       4   \n",
              "4              21                         5                       1   \n",
              "\n",
              "   Contacts_Count_12_mon  Credit_Limit  Total_Revolving_Bal  Avg_Open_To_Buy  \\\n",
              "0                      3       12691.0                  777          11914.0   \n",
              "1                      2        8256.0                  864           7392.0   \n",
              "2                      0        3418.0                    0           3418.0   \n",
              "3                      1        3313.0                 2517            796.0   \n",
              "4                      0        4716.0                    0           4716.0   \n",
              "\n",
              "   Total_Amt_Chng_Q4_Q1  Total_Trans_Amt  Total_Trans_Ct  Total_Ct_Chng_Q4_Q1  \\\n",
              "0                 1.335             1144              42                1.625   \n",
              "1                 1.541             1291              33                3.714   \n",
              "2                 2.594             1887              20                2.333   \n",
              "3                 1.405             1171              20                2.333   \n",
              "4                 2.175              816              28                2.500   \n",
              "\n",
              "   Avg_Utilization_Ratio  \\\n",
              "0                  0.061   \n",
              "1                  0.105   \n",
              "2                  0.000   \n",
              "3                  0.760   \n",
              "4                  0.000   \n",
              "\n",
              "   Naive_Bayes_Classifier_Attrition_Flag_Inactive_1Year  \\\n",
              "0                                           0.000093      \n",
              "1                                           0.000057      \n",
              "2                                           0.000021      \n",
              "3                                           0.000134      \n",
              "4                                           0.000022      \n",
              "\n",
              "   Naive_Bayes_Classifier_Attrition_Flag_Inactive_2Year  \n",
              "0                                            0.99991     \n",
              "1                                            0.99994     \n",
              "2                                            0.99998     \n",
              "3                                            0.99987     \n",
              "4                                            0.99998     "
            ],
            "text/html": [
              "\n",
              "  <div id=\"df-3c949223-4f8e-4b86-bb10-e35f8aac84ea\">\n",
              "    <div class=\"colab-df-container\">\n",
              "      <div>\n",
              "<style scoped>\n",
              "    .dataframe tbody tr th:only-of-type {\n",
              "        vertical-align: middle;\n",
              "    }\n",
              "\n",
              "    .dataframe tbody tr th {\n",
              "        vertical-align: top;\n",
              "    }\n",
              "\n",
              "    .dataframe thead th {\n",
              "        text-align: right;\n",
              "    }\n",
              "</style>\n",
              "<table border=\"1\" class=\"dataframe\">\n",
              "  <thead>\n",
              "    <tr style=\"text-align: right;\">\n",
              "      <th></th>\n",
              "      <th>CLIENTNUM</th>\n",
              "      <th>Attrition_Flag</th>\n",
              "      <th>Customer_Age</th>\n",
              "      <th>Gender</th>\n",
              "      <th>Dependent_count</th>\n",
              "      <th>Education_Level</th>\n",
              "      <th>Marital_Status</th>\n",
              "      <th>Income_Category</th>\n",
              "      <th>Card_Category</th>\n",
              "      <th>Months_on_book</th>\n",
              "      <th>Total_Relationship_Count</th>\n",
              "      <th>Months_Inactive_12_mon</th>\n",
              "      <th>Contacts_Count_12_mon</th>\n",
              "      <th>Credit_Limit</th>\n",
              "      <th>Total_Revolving_Bal</th>\n",
              "      <th>Avg_Open_To_Buy</th>\n",
              "      <th>Total_Amt_Chng_Q4_Q1</th>\n",
              "      <th>Total_Trans_Amt</th>\n",
              "      <th>Total_Trans_Ct</th>\n",
              "      <th>Total_Ct_Chng_Q4_Q1</th>\n",
              "      <th>Avg_Utilization_Ratio</th>\n",
              "      <th>Naive_Bayes_Classifier_Attrition_Flag_Inactive_1Year</th>\n",
              "      <th>Naive_Bayes_Classifier_Attrition_Flag_Inactive_2Year</th>\n",
              "    </tr>\n",
              "  </thead>\n",
              "  <tbody>\n",
              "    <tr>\n",
              "      <th>0</th>\n",
              "      <td>768805383</td>\n",
              "      <td>Existing Customer</td>\n",
              "      <td>45</td>\n",
              "      <td>M</td>\n",
              "      <td>3</td>\n",
              "      <td>High School</td>\n",
              "      <td>Married</td>\n",
              "      <td>$60K - $80K</td>\n",
              "      <td>Blue</td>\n",
              "      <td>39</td>\n",
              "      <td>5</td>\n",
              "      <td>1</td>\n",
              "      <td>3</td>\n",
              "      <td>12691.0</td>\n",
              "      <td>777</td>\n",
              "      <td>11914.0</td>\n",
              "      <td>1.335</td>\n",
              "      <td>1144</td>\n",
              "      <td>42</td>\n",
              "      <td>1.625</td>\n",
              "      <td>0.061</td>\n",
              "      <td>0.000093</td>\n",
              "      <td>0.99991</td>\n",
              "    </tr>\n",
              "    <tr>\n",
              "      <th>1</th>\n",
              "      <td>818770008</td>\n",
              "      <td>Existing Customer</td>\n",
              "      <td>49</td>\n",
              "      <td>F</td>\n",
              "      <td>5</td>\n",
              "      <td>Graduate</td>\n",
              "      <td>Single</td>\n",
              "      <td>Less than $40K</td>\n",
              "      <td>Blue</td>\n",
              "      <td>44</td>\n",
              "      <td>6</td>\n",
              "      <td>1</td>\n",
              "      <td>2</td>\n",
              "      <td>8256.0</td>\n",
              "      <td>864</td>\n",
              "      <td>7392.0</td>\n",
              "      <td>1.541</td>\n",
              "      <td>1291</td>\n",
              "      <td>33</td>\n",
              "      <td>3.714</td>\n",
              "      <td>0.105</td>\n",
              "      <td>0.000057</td>\n",
              "      <td>0.99994</td>\n",
              "    </tr>\n",
              "    <tr>\n",
              "      <th>2</th>\n",
              "      <td>713982108</td>\n",
              "      <td>Existing Customer</td>\n",
              "      <td>51</td>\n",
              "      <td>M</td>\n",
              "      <td>3</td>\n",
              "      <td>Graduate</td>\n",
              "      <td>Married</td>\n",
              "      <td>$80K - $120K</td>\n",
              "      <td>Blue</td>\n",
              "      <td>36</td>\n",
              "      <td>4</td>\n",
              "      <td>1</td>\n",
              "      <td>0</td>\n",
              "      <td>3418.0</td>\n",
              "      <td>0</td>\n",
              "      <td>3418.0</td>\n",
              "      <td>2.594</td>\n",
              "      <td>1887</td>\n",
              "      <td>20</td>\n",
              "      <td>2.333</td>\n",
              "      <td>0.000</td>\n",
              "      <td>0.000021</td>\n",
              "      <td>0.99998</td>\n",
              "    </tr>\n",
              "    <tr>\n",
              "      <th>3</th>\n",
              "      <td>769911858</td>\n",
              "      <td>Existing Customer</td>\n",
              "      <td>40</td>\n",
              "      <td>F</td>\n",
              "      <td>4</td>\n",
              "      <td>High School</td>\n",
              "      <td>Unknown</td>\n",
              "      <td>Less than $40K</td>\n",
              "      <td>Blue</td>\n",
              "      <td>34</td>\n",
              "      <td>3</td>\n",
              "      <td>4</td>\n",
              "      <td>1</td>\n",
              "      <td>3313.0</td>\n",
              "      <td>2517</td>\n",
              "      <td>796.0</td>\n",
              "      <td>1.405</td>\n",
              "      <td>1171</td>\n",
              "      <td>20</td>\n",
              "      <td>2.333</td>\n",
              "      <td>0.760</td>\n",
              "      <td>0.000134</td>\n",
              "      <td>0.99987</td>\n",
              "    </tr>\n",
              "    <tr>\n",
              "      <th>4</th>\n",
              "      <td>709106358</td>\n",
              "      <td>Existing Customer</td>\n",
              "      <td>40</td>\n",
              "      <td>M</td>\n",
              "      <td>3</td>\n",
              "      <td>Uneducated</td>\n",
              "      <td>Married</td>\n",
              "      <td>$60K - $80K</td>\n",
              "      <td>Blue</td>\n",
              "      <td>21</td>\n",
              "      <td>5</td>\n",
              "      <td>1</td>\n",
              "      <td>0</td>\n",
              "      <td>4716.0</td>\n",
              "      <td>0</td>\n",
              "      <td>4716.0</td>\n",
              "      <td>2.175</td>\n",
              "      <td>816</td>\n",
              "      <td>28</td>\n",
              "      <td>2.500</td>\n",
              "      <td>0.000</td>\n",
              "      <td>0.000022</td>\n",
              "      <td>0.99998</td>\n",
              "    </tr>\n",
              "  </tbody>\n",
              "</table>\n",
              "</div>\n",
              "      <button class=\"colab-df-convert\" onclick=\"convertToInteractive('df-3c949223-4f8e-4b86-bb10-e35f8aac84ea')\"\n",
              "              title=\"Convert this dataframe to an interactive table.\"\n",
              "              style=\"display:none;\">\n",
              "        \n",
              "  <svg xmlns=\"http://www.w3.org/2000/svg\" height=\"24px\"viewBox=\"0 0 24 24\"\n",
              "       width=\"24px\">\n",
              "    <path d=\"M0 0h24v24H0V0z\" fill=\"none\"/>\n",
              "    <path d=\"M18.56 5.44l.94 2.06.94-2.06 2.06-.94-2.06-.94-.94-2.06-.94 2.06-2.06.94zm-11 1L8.5 8.5l.94-2.06 2.06-.94-2.06-.94L8.5 2.5l-.94 2.06-2.06.94zm10 10l.94 2.06.94-2.06 2.06-.94-2.06-.94-.94-2.06-.94 2.06-2.06.94z\"/><path d=\"M17.41 7.96l-1.37-1.37c-.4-.4-.92-.59-1.43-.59-.52 0-1.04.2-1.43.59L10.3 9.45l-7.72 7.72c-.78.78-.78 2.05 0 2.83L4 21.41c.39.39.9.59 1.41.59.51 0 1.02-.2 1.41-.59l7.78-7.78 2.81-2.81c.8-.78.8-2.07 0-2.86zM5.41 20L4 18.59l7.72-7.72 1.47 1.35L5.41 20z\"/>\n",
              "  </svg>\n",
              "      </button>\n",
              "      \n",
              "  <style>\n",
              "    .colab-df-container {\n",
              "      display:flex;\n",
              "      flex-wrap:wrap;\n",
              "      gap: 12px;\n",
              "    }\n",
              "\n",
              "    .colab-df-convert {\n",
              "      background-color: #E8F0FE;\n",
              "      border: none;\n",
              "      border-radius: 50%;\n",
              "      cursor: pointer;\n",
              "      display: none;\n",
              "      fill: #1967D2;\n",
              "      height: 32px;\n",
              "      padding: 0 0 0 0;\n",
              "      width: 32px;\n",
              "    }\n",
              "\n",
              "    .colab-df-convert:hover {\n",
              "      background-color: #E2EBFA;\n",
              "      box-shadow: 0px 1px 2px rgba(60, 64, 67, 0.3), 0px 1px 3px 1px rgba(60, 64, 67, 0.15);\n",
              "      fill: #174EA6;\n",
              "    }\n",
              "\n",
              "    [theme=dark] .colab-df-convert {\n",
              "      background-color: #3B4455;\n",
              "      fill: #D2E3FC;\n",
              "    }\n",
              "\n",
              "    [theme=dark] .colab-df-convert:hover {\n",
              "      background-color: #434B5C;\n",
              "      box-shadow: 0px 1px 3px 1px rgba(0, 0, 0, 0.15);\n",
              "      filter: drop-shadow(0px 1px 2px rgba(0, 0, 0, 0.3));\n",
              "      fill: #FFFFFF;\n",
              "    }\n",
              "  </style>\n",
              "\n",
              "      <script>\n",
              "        const buttonEl =\n",
              "          document.querySelector('#df-3c949223-4f8e-4b86-bb10-e35f8aac84ea button.colab-df-convert');\n",
              "        buttonEl.style.display =\n",
              "          google.colab.kernel.accessAllowed ? 'block' : 'none';\n",
              "\n",
              "        async function convertToInteractive(key) {\n",
              "          const element = document.querySelector('#df-3c949223-4f8e-4b86-bb10-e35f8aac84ea');\n",
              "          const dataTable =\n",
              "            await google.colab.kernel.invokeFunction('convertToInteractive',\n",
              "                                                     [key], {});\n",
              "          if (!dataTable) return;\n",
              "\n",
              "          const docLinkHtml = 'Like what you see? Visit the ' +\n",
              "            '<a target=\"_blank\" href=https://colab.research.google.com/notebooks/data_table.ipynb>data table notebook</a>'\n",
              "            + ' to learn more about interactive tables.';\n",
              "          element.innerHTML = '';\n",
              "          dataTable['output_type'] = 'display_data';\n",
              "          await google.colab.output.renderOutput(dataTable, element);\n",
              "          const docLink = document.createElement('div');\n",
              "          docLink.innerHTML = docLinkHtml;\n",
              "          element.appendChild(docLink);\n",
              "        }\n",
              "      </script>\n",
              "    </div>\n",
              "  </div>\n",
              "  "
            ]
          },
          "metadata": {},
          "execution_count": 8
        }
      ]
    },
    {
      "cell_type": "code",
      "source": [
        "## display column names, count of non-null values, and datatypes\n",
        "df.info()"
      ],
      "metadata": {
        "colab": {
          "base_uri": "https://localhost:8080/"
        },
        "id": "ax-1-BFLo7Df",
        "outputId": "03483dac-902b-4d66-fb32-8e333951feed"
      },
      "execution_count": 9,
      "outputs": [
        {
          "output_type": "stream",
          "name": "stdout",
          "text": [
            "<class 'pandas.core.frame.DataFrame'>\n",
            "RangeIndex: 10127 entries, 0 to 10126\n",
            "Data columns (total 23 columns):\n",
            " #   Column                                                Non-Null Count  Dtype  \n",
            "---  ------                                                --------------  -----  \n",
            " 0   CLIENTNUM                                             10127 non-null  int64  \n",
            " 1   Attrition_Flag                                        10127 non-null  object \n",
            " 2   Customer_Age                                          10127 non-null  int64  \n",
            " 3   Gender                                                10127 non-null  object \n",
            " 4   Dependent_count                                       10127 non-null  int64  \n",
            " 5   Education_Level                                       10127 non-null  object \n",
            " 6   Marital_Status                                        10127 non-null  object \n",
            " 7   Income_Category                                       10127 non-null  object \n",
            " 8   Card_Category                                         10127 non-null  object \n",
            " 9   Months_on_book                                        10127 non-null  int64  \n",
            " 10  Total_Relationship_Count                              10127 non-null  int64  \n",
            " 11  Months_Inactive_12_mon                                10127 non-null  int64  \n",
            " 12  Contacts_Count_12_mon                                 10127 non-null  int64  \n",
            " 13  Credit_Limit                                          10127 non-null  float64\n",
            " 14  Total_Revolving_Bal                                   10127 non-null  int64  \n",
            " 15  Avg_Open_To_Buy                                       10127 non-null  float64\n",
            " 16  Total_Amt_Chng_Q4_Q1                                  10127 non-null  float64\n",
            " 17  Total_Trans_Amt                                       10127 non-null  int64  \n",
            " 18  Total_Trans_Ct                                        10127 non-null  int64  \n",
            " 19  Total_Ct_Chng_Q4_Q1                                   10127 non-null  float64\n",
            " 20  Avg_Utilization_Ratio                                 10127 non-null  float64\n",
            " 21  Naive_Bayes_Classifier_Attrition_Flag_Inactive_1Year  10127 non-null  float64\n",
            " 22  Naive_Bayes_Classifier_Attrition_Flag_Inactive_2Year  10127 non-null  float64\n",
            "dtypes: float64(7), int64(10), object(6)\n",
            "memory usage: 1.8+ MB\n"
          ]
        }
      ]
    },
    {
      "cell_type": "code",
      "source": [
        "## display descriptive statistics for categorical columns\n",
        "df.describe(include=\"object\") # or 'number'"
      ],
      "metadata": {
        "colab": {
          "base_uri": "https://localhost:8080/",
          "height": 174
        },
        "id": "bhoNZ6ZOpv0D",
        "outputId": "d420e45d-c7d9-4950-edf4-cd47d341dc71"
      },
      "execution_count": 10,
      "outputs": [
        {
          "output_type": "execute_result",
          "data": {
            "text/plain": [
              "           Attrition_Flag Gender Education_Level Marital_Status  \\\n",
              "count               10127  10127           10127          10127   \n",
              "unique                  2      2               7              4   \n",
              "top     Existing Customer      F        Graduate        Married   \n",
              "freq                 8500   5358            3128           4687   \n",
              "\n",
              "       Income_Category Card_Category  \n",
              "count            10127         10127  \n",
              "unique               6             4  \n",
              "top     Less than $40K          Blue  \n",
              "freq              3561          9436  "
            ],
            "text/html": [
              "\n",
              "  <div id=\"df-9d75eb28-af43-47ac-9947-e68e633ea463\">\n",
              "    <div class=\"colab-df-container\">\n",
              "      <div>\n",
              "<style scoped>\n",
              "    .dataframe tbody tr th:only-of-type {\n",
              "        vertical-align: middle;\n",
              "    }\n",
              "\n",
              "    .dataframe tbody tr th {\n",
              "        vertical-align: top;\n",
              "    }\n",
              "\n",
              "    .dataframe thead th {\n",
              "        text-align: right;\n",
              "    }\n",
              "</style>\n",
              "<table border=\"1\" class=\"dataframe\">\n",
              "  <thead>\n",
              "    <tr style=\"text-align: right;\">\n",
              "      <th></th>\n",
              "      <th>Attrition_Flag</th>\n",
              "      <th>Gender</th>\n",
              "      <th>Education_Level</th>\n",
              "      <th>Marital_Status</th>\n",
              "      <th>Income_Category</th>\n",
              "      <th>Card_Category</th>\n",
              "    </tr>\n",
              "  </thead>\n",
              "  <tbody>\n",
              "    <tr>\n",
              "      <th>count</th>\n",
              "      <td>10127</td>\n",
              "      <td>10127</td>\n",
              "      <td>10127</td>\n",
              "      <td>10127</td>\n",
              "      <td>10127</td>\n",
              "      <td>10127</td>\n",
              "    </tr>\n",
              "    <tr>\n",
              "      <th>unique</th>\n",
              "      <td>2</td>\n",
              "      <td>2</td>\n",
              "      <td>7</td>\n",
              "      <td>4</td>\n",
              "      <td>6</td>\n",
              "      <td>4</td>\n",
              "    </tr>\n",
              "    <tr>\n",
              "      <th>top</th>\n",
              "      <td>Existing Customer</td>\n",
              "      <td>F</td>\n",
              "      <td>Graduate</td>\n",
              "      <td>Married</td>\n",
              "      <td>Less than $40K</td>\n",
              "      <td>Blue</td>\n",
              "    </tr>\n",
              "    <tr>\n",
              "      <th>freq</th>\n",
              "      <td>8500</td>\n",
              "      <td>5358</td>\n",
              "      <td>3128</td>\n",
              "      <td>4687</td>\n",
              "      <td>3561</td>\n",
              "      <td>9436</td>\n",
              "    </tr>\n",
              "  </tbody>\n",
              "</table>\n",
              "</div>\n",
              "      <button class=\"colab-df-convert\" onclick=\"convertToInteractive('df-9d75eb28-af43-47ac-9947-e68e633ea463')\"\n",
              "              title=\"Convert this dataframe to an interactive table.\"\n",
              "              style=\"display:none;\">\n",
              "        \n",
              "  <svg xmlns=\"http://www.w3.org/2000/svg\" height=\"24px\"viewBox=\"0 0 24 24\"\n",
              "       width=\"24px\">\n",
              "    <path d=\"M0 0h24v24H0V0z\" fill=\"none\"/>\n",
              "    <path d=\"M18.56 5.44l.94 2.06.94-2.06 2.06-.94-2.06-.94-.94-2.06-.94 2.06-2.06.94zm-11 1L8.5 8.5l.94-2.06 2.06-.94-2.06-.94L8.5 2.5l-.94 2.06-2.06.94zm10 10l.94 2.06.94-2.06 2.06-.94-2.06-.94-.94-2.06-.94 2.06-2.06.94z\"/><path d=\"M17.41 7.96l-1.37-1.37c-.4-.4-.92-.59-1.43-.59-.52 0-1.04.2-1.43.59L10.3 9.45l-7.72 7.72c-.78.78-.78 2.05 0 2.83L4 21.41c.39.39.9.59 1.41.59.51 0 1.02-.2 1.41-.59l7.78-7.78 2.81-2.81c.8-.78.8-2.07 0-2.86zM5.41 20L4 18.59l7.72-7.72 1.47 1.35L5.41 20z\"/>\n",
              "  </svg>\n",
              "      </button>\n",
              "      \n",
              "  <style>\n",
              "    .colab-df-container {\n",
              "      display:flex;\n",
              "      flex-wrap:wrap;\n",
              "      gap: 12px;\n",
              "    }\n",
              "\n",
              "    .colab-df-convert {\n",
              "      background-color: #E8F0FE;\n",
              "      border: none;\n",
              "      border-radius: 50%;\n",
              "      cursor: pointer;\n",
              "      display: none;\n",
              "      fill: #1967D2;\n",
              "      height: 32px;\n",
              "      padding: 0 0 0 0;\n",
              "      width: 32px;\n",
              "    }\n",
              "\n",
              "    .colab-df-convert:hover {\n",
              "      background-color: #E2EBFA;\n",
              "      box-shadow: 0px 1px 2px rgba(60, 64, 67, 0.3), 0px 1px 3px 1px rgba(60, 64, 67, 0.15);\n",
              "      fill: #174EA6;\n",
              "    }\n",
              "\n",
              "    [theme=dark] .colab-df-convert {\n",
              "      background-color: #3B4455;\n",
              "      fill: #D2E3FC;\n",
              "    }\n",
              "\n",
              "    [theme=dark] .colab-df-convert:hover {\n",
              "      background-color: #434B5C;\n",
              "      box-shadow: 0px 1px 3px 1px rgba(0, 0, 0, 0.15);\n",
              "      filter: drop-shadow(0px 1px 2px rgba(0, 0, 0, 0.3));\n",
              "      fill: #FFFFFF;\n",
              "    }\n",
              "  </style>\n",
              "\n",
              "      <script>\n",
              "        const buttonEl =\n",
              "          document.querySelector('#df-9d75eb28-af43-47ac-9947-e68e633ea463 button.colab-df-convert');\n",
              "        buttonEl.style.display =\n",
              "          google.colab.kernel.accessAllowed ? 'block' : 'none';\n",
              "\n",
              "        async function convertToInteractive(key) {\n",
              "          const element = document.querySelector('#df-9d75eb28-af43-47ac-9947-e68e633ea463');\n",
              "          const dataTable =\n",
              "            await google.colab.kernel.invokeFunction('convertToInteractive',\n",
              "                                                     [key], {});\n",
              "          if (!dataTable) return;\n",
              "\n",
              "          const docLinkHtml = 'Like what you see? Visit the ' +\n",
              "            '<a target=\"_blank\" href=https://colab.research.google.com/notebooks/data_table.ipynb>data table notebook</a>'\n",
              "            + ' to learn more about interactive tables.';\n",
              "          element.innerHTML = '';\n",
              "          dataTable['output_type'] = 'display_data';\n",
              "          await google.colab.output.renderOutput(dataTable, element);\n",
              "          const docLink = document.createElement('div');\n",
              "          docLink.innerHTML = docLinkHtml;\n",
              "          element.appendChild(docLink);\n",
              "        }\n",
              "      </script>\n",
              "    </div>\n",
              "  </div>\n",
              "  "
            ]
          },
          "metadata": {},
          "execution_count": 10
        }
      ]
    },
    {
      "cell_type": "markdown",
      "source": [
        "### **Remove Unnecessary Columns**\n",
        "\n",
        "---\n",
        "\n"
      ],
      "metadata": {
        "id": "W0E9FHxcqCmm"
      }
    },
    {
      "cell_type": "code",
      "source": [
        "# check how man unique client numbers exist\n",
        "df['CLIENTNUM'].value_counts()"
      ],
      "metadata": {
        "colab": {
          "base_uri": "https://localhost:8080/"
        },
        "id": "czocHojiqPUR",
        "outputId": "0d0af4cc-ea64-4386-bafc-98f1191d9998"
      },
      "execution_count": 11,
      "outputs": [
        {
          "output_type": "execute_result",
          "data": {
            "text/plain": [
              "768805383    1\n",
              "711784908    1\n",
              "720133908    1\n",
              "803197833    1\n",
              "812222208    1\n",
              "            ..\n",
              "796903083    1\n",
              "716014983    1\n",
              "712521783    1\n",
              "780045708    1\n",
              "714337233    1\n",
              "Name: CLIENTNUM, Length: 10127, dtype: int64"
            ]
          },
          "metadata": {},
          "execution_count": 11
        }
      ]
    },
    {
      "cell_type": "markdown",
      "source": [
        "* CLIENTNUM (unique client number) is a unique ID for each bank customer.\n",
        "   * *It is good to drop this irrevalent column, as it is unique in every row.*"
      ],
      "metadata": {
        "id": "sEUXC7ggqfOw"
      }
    },
    {
      "cell_type": "code",
      "source": [
        "df.drop(columns='CLIENTNUM', inplace=True)"
      ],
      "metadata": {
        "id": "CaTzbNgBqHRK"
      },
      "execution_count": 12,
      "outputs": []
    },
    {
      "cell_type": "code",
      "source": [
        "df.info()"
      ],
      "metadata": {
        "colab": {
          "base_uri": "https://localhost:8080/"
        },
        "id": "cnXl5_wHrL54",
        "outputId": "8d28d4b2-9968-4053-ce03-eb26874040f4"
      },
      "execution_count": 13,
      "outputs": [
        {
          "output_type": "stream",
          "name": "stdout",
          "text": [
            "<class 'pandas.core.frame.DataFrame'>\n",
            "RangeIndex: 10127 entries, 0 to 10126\n",
            "Data columns (total 22 columns):\n",
            " #   Column                                                Non-Null Count  Dtype  \n",
            "---  ------                                                --------------  -----  \n",
            " 0   Attrition_Flag                                        10127 non-null  object \n",
            " 1   Customer_Age                                          10127 non-null  int64  \n",
            " 2   Gender                                                10127 non-null  object \n",
            " 3   Dependent_count                                       10127 non-null  int64  \n",
            " 4   Education_Level                                       10127 non-null  object \n",
            " 5   Marital_Status                                        10127 non-null  object \n",
            " 6   Income_Category                                       10127 non-null  object \n",
            " 7   Card_Category                                         10127 non-null  object \n",
            " 8   Months_on_book                                        10127 non-null  int64  \n",
            " 9   Total_Relationship_Count                              10127 non-null  int64  \n",
            " 10  Months_Inactive_12_mon                                10127 non-null  int64  \n",
            " 11  Contacts_Count_12_mon                                 10127 non-null  int64  \n",
            " 12  Credit_Limit                                          10127 non-null  float64\n",
            " 13  Total_Revolving_Bal                                   10127 non-null  int64  \n",
            " 14  Avg_Open_To_Buy                                       10127 non-null  float64\n",
            " 15  Total_Amt_Chng_Q4_Q1                                  10127 non-null  float64\n",
            " 16  Total_Trans_Amt                                       10127 non-null  int64  \n",
            " 17  Total_Trans_Ct                                        10127 non-null  int64  \n",
            " 18  Total_Ct_Chng_Q4_Q1                                   10127 non-null  float64\n",
            " 19  Avg_Utilization_Ratio                                 10127 non-null  float64\n",
            " 20  Naive_Bayes_Classifier_Attrition_Flag_Inactive_1Year  10127 non-null  float64\n",
            " 21  Naive_Bayes_Classifier_Attrition_Flag_Inactive_2Year  10127 non-null  float64\n",
            "dtypes: float64(7), int64(9), object(6)\n",
            "memory usage: 1.7+ MB\n"
          ]
        }
      ]
    },
    {
      "cell_type": "markdown",
      "source": [
        "###**Duplicates**\n",
        "\n",
        "---\n",
        "\n"
      ],
      "metadata": {
        "id": "DjklDT-rrqxy"
      }
    },
    {
      "cell_type": "code",
      "source": [
        "## Display the number of duplicate rows in the dataset\n",
        "print(f'There are {df.duplicated().sum()} duplicate rows.')"
      ],
      "metadata": {
        "colab": {
          "base_uri": "https://localhost:8080/"
        },
        "id": "ppPsH2DntVTb",
        "outputId": "009fee3b-ff9f-46c0-8d72-3312c99dae7c"
      },
      "execution_count": 14,
      "outputs": [
        {
          "output_type": "stream",
          "name": "stdout",
          "text": [
            "There are 0 duplicate rows.\n"
          ]
        }
      ]
    },
    {
      "cell_type": "markdown",
      "source": [
        "\n",
        "### **Inspect Values for Errors**\n",
        "\n",
        "---\n",
        "<br />\n",
        "\n",
        "#### **Numeric:**\n",
        "* Check for extreme or impossible values, such as negative numbers.\n",
        "   * *No unusual numerical values noted.*"
      ],
      "metadata": {
        "id": "2xGKOHj9trW5"
      }
    },
    {
      "cell_type": "markdown",
      "source": [
        " ### **Summary Statistics for Numeric Features**\n",
        "\n",
        "---"
      ],
      "metadata": {
        "id": "6wqhX5gU7Z2l"
      }
    },
    {
      "cell_type": "code",
      "source": [
        "## display descriptive statistics for numeric columns\n",
        "df.describe(include=\"number\").round(2) # or 'object'"
      ],
      "metadata": {
        "colab": {
          "base_uri": "https://localhost:8080/",
          "height": 364
        },
        "id": "Fr1FUiRHtywT",
        "outputId": "b4ebe847-c732-4604-f3d0-d7375210feb0"
      },
      "execution_count": 15,
      "outputs": [
        {
          "output_type": "execute_result",
          "data": {
            "text/plain": [
              "       Customer_Age  Dependent_count  Months_on_book  \\\n",
              "count      10127.00         10127.00        10127.00   \n",
              "mean          46.33             2.35           35.93   \n",
              "std            8.02             1.30            7.99   \n",
              "min           26.00             0.00           13.00   \n",
              "25%           41.00             1.00           31.00   \n",
              "50%           46.00             2.00           36.00   \n",
              "75%           52.00             3.00           40.00   \n",
              "max           73.00             5.00           56.00   \n",
              "\n",
              "       Total_Relationship_Count  Months_Inactive_12_mon  \\\n",
              "count                  10127.00                10127.00   \n",
              "mean                       3.81                    2.34   \n",
              "std                        1.55                    1.01   \n",
              "min                        1.00                    0.00   \n",
              "25%                        3.00                    2.00   \n",
              "50%                        4.00                    2.00   \n",
              "75%                        5.00                    3.00   \n",
              "max                        6.00                    6.00   \n",
              "\n",
              "       Contacts_Count_12_mon  Credit_Limit  Total_Revolving_Bal  \\\n",
              "count               10127.00      10127.00             10127.00   \n",
              "mean                    2.46       8631.95              1162.81   \n",
              "std                     1.11       9088.78               814.99   \n",
              "min                     0.00       1438.30                 0.00   \n",
              "25%                     2.00       2555.00               359.00   \n",
              "50%                     2.00       4549.00              1276.00   \n",
              "75%                     3.00      11067.50              1784.00   \n",
              "max                     6.00      34516.00              2517.00   \n",
              "\n",
              "       Avg_Open_To_Buy  Total_Amt_Chng_Q4_Q1  Total_Trans_Amt  Total_Trans_Ct  \\\n",
              "count         10127.00              10127.00         10127.00        10127.00   \n",
              "mean           7469.14                  0.76          4404.09           64.86   \n",
              "std            9090.69                  0.22          3397.13           23.47   \n",
              "min               3.00                  0.00           510.00           10.00   \n",
              "25%            1324.50                  0.63          2155.50           45.00   \n",
              "50%            3474.00                  0.74          3899.00           67.00   \n",
              "75%            9859.00                  0.86          4741.00           81.00   \n",
              "max           34516.00                  3.40         18484.00          139.00   \n",
              "\n",
              "       Total_Ct_Chng_Q4_Q1  Avg_Utilization_Ratio  \\\n",
              "count             10127.00               10127.00   \n",
              "mean                  0.71                   0.27   \n",
              "std                   0.24                   0.28   \n",
              "min                   0.00                   0.00   \n",
              "25%                   0.58                   0.02   \n",
              "50%                   0.70                   0.18   \n",
              "75%                   0.82                   0.50   \n",
              "max                   3.71                   1.00   \n",
              "\n",
              "       Naive_Bayes_Classifier_Attrition_Flag_Inactive_1Year  \\\n",
              "count                                           10127.00      \n",
              "mean                                                0.16      \n",
              "std                                                 0.37      \n",
              "min                                                 0.00      \n",
              "25%                                                 0.00      \n",
              "50%                                                 0.00      \n",
              "75%                                                 0.00      \n",
              "max                                                 1.00      \n",
              "\n",
              "       Naive_Bayes_Classifier_Attrition_Flag_Inactive_2Year  \n",
              "count                                           10127.00     \n",
              "mean                                                0.84     \n",
              "std                                                 0.37     \n",
              "min                                                 0.00     \n",
              "25%                                                 1.00     \n",
              "50%                                                 1.00     \n",
              "75%                                                 1.00     \n",
              "max                                                 1.00     "
            ],
            "text/html": [
              "\n",
              "  <div id=\"df-10ad9cc3-58d1-4620-bad2-a393e64cebb9\">\n",
              "    <div class=\"colab-df-container\">\n",
              "      <div>\n",
              "<style scoped>\n",
              "    .dataframe tbody tr th:only-of-type {\n",
              "        vertical-align: middle;\n",
              "    }\n",
              "\n",
              "    .dataframe tbody tr th {\n",
              "        vertical-align: top;\n",
              "    }\n",
              "\n",
              "    .dataframe thead th {\n",
              "        text-align: right;\n",
              "    }\n",
              "</style>\n",
              "<table border=\"1\" class=\"dataframe\">\n",
              "  <thead>\n",
              "    <tr style=\"text-align: right;\">\n",
              "      <th></th>\n",
              "      <th>Customer_Age</th>\n",
              "      <th>Dependent_count</th>\n",
              "      <th>Months_on_book</th>\n",
              "      <th>Total_Relationship_Count</th>\n",
              "      <th>Months_Inactive_12_mon</th>\n",
              "      <th>Contacts_Count_12_mon</th>\n",
              "      <th>Credit_Limit</th>\n",
              "      <th>Total_Revolving_Bal</th>\n",
              "      <th>Avg_Open_To_Buy</th>\n",
              "      <th>Total_Amt_Chng_Q4_Q1</th>\n",
              "      <th>Total_Trans_Amt</th>\n",
              "      <th>Total_Trans_Ct</th>\n",
              "      <th>Total_Ct_Chng_Q4_Q1</th>\n",
              "      <th>Avg_Utilization_Ratio</th>\n",
              "      <th>Naive_Bayes_Classifier_Attrition_Flag_Inactive_1Year</th>\n",
              "      <th>Naive_Bayes_Classifier_Attrition_Flag_Inactive_2Year</th>\n",
              "    </tr>\n",
              "  </thead>\n",
              "  <tbody>\n",
              "    <tr>\n",
              "      <th>count</th>\n",
              "      <td>10127.00</td>\n",
              "      <td>10127.00</td>\n",
              "      <td>10127.00</td>\n",
              "      <td>10127.00</td>\n",
              "      <td>10127.00</td>\n",
              "      <td>10127.00</td>\n",
              "      <td>10127.00</td>\n",
              "      <td>10127.00</td>\n",
              "      <td>10127.00</td>\n",
              "      <td>10127.00</td>\n",
              "      <td>10127.00</td>\n",
              "      <td>10127.00</td>\n",
              "      <td>10127.00</td>\n",
              "      <td>10127.00</td>\n",
              "      <td>10127.00</td>\n",
              "      <td>10127.00</td>\n",
              "    </tr>\n",
              "    <tr>\n",
              "      <th>mean</th>\n",
              "      <td>46.33</td>\n",
              "      <td>2.35</td>\n",
              "      <td>35.93</td>\n",
              "      <td>3.81</td>\n",
              "      <td>2.34</td>\n",
              "      <td>2.46</td>\n",
              "      <td>8631.95</td>\n",
              "      <td>1162.81</td>\n",
              "      <td>7469.14</td>\n",
              "      <td>0.76</td>\n",
              "      <td>4404.09</td>\n",
              "      <td>64.86</td>\n",
              "      <td>0.71</td>\n",
              "      <td>0.27</td>\n",
              "      <td>0.16</td>\n",
              "      <td>0.84</td>\n",
              "    </tr>\n",
              "    <tr>\n",
              "      <th>std</th>\n",
              "      <td>8.02</td>\n",
              "      <td>1.30</td>\n",
              "      <td>7.99</td>\n",
              "      <td>1.55</td>\n",
              "      <td>1.01</td>\n",
              "      <td>1.11</td>\n",
              "      <td>9088.78</td>\n",
              "      <td>814.99</td>\n",
              "      <td>9090.69</td>\n",
              "      <td>0.22</td>\n",
              "      <td>3397.13</td>\n",
              "      <td>23.47</td>\n",
              "      <td>0.24</td>\n",
              "      <td>0.28</td>\n",
              "      <td>0.37</td>\n",
              "      <td>0.37</td>\n",
              "    </tr>\n",
              "    <tr>\n",
              "      <th>min</th>\n",
              "      <td>26.00</td>\n",
              "      <td>0.00</td>\n",
              "      <td>13.00</td>\n",
              "      <td>1.00</td>\n",
              "      <td>0.00</td>\n",
              "      <td>0.00</td>\n",
              "      <td>1438.30</td>\n",
              "      <td>0.00</td>\n",
              "      <td>3.00</td>\n",
              "      <td>0.00</td>\n",
              "      <td>510.00</td>\n",
              "      <td>10.00</td>\n",
              "      <td>0.00</td>\n",
              "      <td>0.00</td>\n",
              "      <td>0.00</td>\n",
              "      <td>0.00</td>\n",
              "    </tr>\n",
              "    <tr>\n",
              "      <th>25%</th>\n",
              "      <td>41.00</td>\n",
              "      <td>1.00</td>\n",
              "      <td>31.00</td>\n",
              "      <td>3.00</td>\n",
              "      <td>2.00</td>\n",
              "      <td>2.00</td>\n",
              "      <td>2555.00</td>\n",
              "      <td>359.00</td>\n",
              "      <td>1324.50</td>\n",
              "      <td>0.63</td>\n",
              "      <td>2155.50</td>\n",
              "      <td>45.00</td>\n",
              "      <td>0.58</td>\n",
              "      <td>0.02</td>\n",
              "      <td>0.00</td>\n",
              "      <td>1.00</td>\n",
              "    </tr>\n",
              "    <tr>\n",
              "      <th>50%</th>\n",
              "      <td>46.00</td>\n",
              "      <td>2.00</td>\n",
              "      <td>36.00</td>\n",
              "      <td>4.00</td>\n",
              "      <td>2.00</td>\n",
              "      <td>2.00</td>\n",
              "      <td>4549.00</td>\n",
              "      <td>1276.00</td>\n",
              "      <td>3474.00</td>\n",
              "      <td>0.74</td>\n",
              "      <td>3899.00</td>\n",
              "      <td>67.00</td>\n",
              "      <td>0.70</td>\n",
              "      <td>0.18</td>\n",
              "      <td>0.00</td>\n",
              "      <td>1.00</td>\n",
              "    </tr>\n",
              "    <tr>\n",
              "      <th>75%</th>\n",
              "      <td>52.00</td>\n",
              "      <td>3.00</td>\n",
              "      <td>40.00</td>\n",
              "      <td>5.00</td>\n",
              "      <td>3.00</td>\n",
              "      <td>3.00</td>\n",
              "      <td>11067.50</td>\n",
              "      <td>1784.00</td>\n",
              "      <td>9859.00</td>\n",
              "      <td>0.86</td>\n",
              "      <td>4741.00</td>\n",
              "      <td>81.00</td>\n",
              "      <td>0.82</td>\n",
              "      <td>0.50</td>\n",
              "      <td>0.00</td>\n",
              "      <td>1.00</td>\n",
              "    </tr>\n",
              "    <tr>\n",
              "      <th>max</th>\n",
              "      <td>73.00</td>\n",
              "      <td>5.00</td>\n",
              "      <td>56.00</td>\n",
              "      <td>6.00</td>\n",
              "      <td>6.00</td>\n",
              "      <td>6.00</td>\n",
              "      <td>34516.00</td>\n",
              "      <td>2517.00</td>\n",
              "      <td>34516.00</td>\n",
              "      <td>3.40</td>\n",
              "      <td>18484.00</td>\n",
              "      <td>139.00</td>\n",
              "      <td>3.71</td>\n",
              "      <td>1.00</td>\n",
              "      <td>1.00</td>\n",
              "      <td>1.00</td>\n",
              "    </tr>\n",
              "  </tbody>\n",
              "</table>\n",
              "</div>\n",
              "      <button class=\"colab-df-convert\" onclick=\"convertToInteractive('df-10ad9cc3-58d1-4620-bad2-a393e64cebb9')\"\n",
              "              title=\"Convert this dataframe to an interactive table.\"\n",
              "              style=\"display:none;\">\n",
              "        \n",
              "  <svg xmlns=\"http://www.w3.org/2000/svg\" height=\"24px\"viewBox=\"0 0 24 24\"\n",
              "       width=\"24px\">\n",
              "    <path d=\"M0 0h24v24H0V0z\" fill=\"none\"/>\n",
              "    <path d=\"M18.56 5.44l.94 2.06.94-2.06 2.06-.94-2.06-.94-.94-2.06-.94 2.06-2.06.94zm-11 1L8.5 8.5l.94-2.06 2.06-.94-2.06-.94L8.5 2.5l-.94 2.06-2.06.94zm10 10l.94 2.06.94-2.06 2.06-.94-2.06-.94-.94-2.06-.94 2.06-2.06.94z\"/><path d=\"M17.41 7.96l-1.37-1.37c-.4-.4-.92-.59-1.43-.59-.52 0-1.04.2-1.43.59L10.3 9.45l-7.72 7.72c-.78.78-.78 2.05 0 2.83L4 21.41c.39.39.9.59 1.41.59.51 0 1.02-.2 1.41-.59l7.78-7.78 2.81-2.81c.8-.78.8-2.07 0-2.86zM5.41 20L4 18.59l7.72-7.72 1.47 1.35L5.41 20z\"/>\n",
              "  </svg>\n",
              "      </button>\n",
              "      \n",
              "  <style>\n",
              "    .colab-df-container {\n",
              "      display:flex;\n",
              "      flex-wrap:wrap;\n",
              "      gap: 12px;\n",
              "    }\n",
              "\n",
              "    .colab-df-convert {\n",
              "      background-color: #E8F0FE;\n",
              "      border: none;\n",
              "      border-radius: 50%;\n",
              "      cursor: pointer;\n",
              "      display: none;\n",
              "      fill: #1967D2;\n",
              "      height: 32px;\n",
              "      padding: 0 0 0 0;\n",
              "      width: 32px;\n",
              "    }\n",
              "\n",
              "    .colab-df-convert:hover {\n",
              "      background-color: #E2EBFA;\n",
              "      box-shadow: 0px 1px 2px rgba(60, 64, 67, 0.3), 0px 1px 3px 1px rgba(60, 64, 67, 0.15);\n",
              "      fill: #174EA6;\n",
              "    }\n",
              "\n",
              "    [theme=dark] .colab-df-convert {\n",
              "      background-color: #3B4455;\n",
              "      fill: #D2E3FC;\n",
              "    }\n",
              "\n",
              "    [theme=dark] .colab-df-convert:hover {\n",
              "      background-color: #434B5C;\n",
              "      box-shadow: 0px 1px 3px 1px rgba(0, 0, 0, 0.15);\n",
              "      filter: drop-shadow(0px 1px 2px rgba(0, 0, 0, 0.3));\n",
              "      fill: #FFFFFF;\n",
              "    }\n",
              "  </style>\n",
              "\n",
              "      <script>\n",
              "        const buttonEl =\n",
              "          document.querySelector('#df-10ad9cc3-58d1-4620-bad2-a393e64cebb9 button.colab-df-convert');\n",
              "        buttonEl.style.display =\n",
              "          google.colab.kernel.accessAllowed ? 'block' : 'none';\n",
              "\n",
              "        async function convertToInteractive(key) {\n",
              "          const element = document.querySelector('#df-10ad9cc3-58d1-4620-bad2-a393e64cebb9');\n",
              "          const dataTable =\n",
              "            await google.colab.kernel.invokeFunction('convertToInteractive',\n",
              "                                                     [key], {});\n",
              "          if (!dataTable) return;\n",
              "\n",
              "          const docLinkHtml = 'Like what you see? Visit the ' +\n",
              "            '<a target=\"_blank\" href=https://colab.research.google.com/notebooks/data_table.ipynb>data table notebook</a>'\n",
              "            + ' to learn more about interactive tables.';\n",
              "          element.innerHTML = '';\n",
              "          dataTable['output_type'] = 'display_data';\n",
              "          await google.colab.output.renderOutput(dataTable, element);\n",
              "          const docLink = document.createElement('div');\n",
              "          docLink.innerHTML = docLinkHtml;\n",
              "          element.appendChild(docLink);\n",
              "        }\n",
              "      </script>\n",
              "    </div>\n",
              "  </div>\n",
              "  "
            ]
          },
          "metadata": {},
          "execution_count": 15
        }
      ]
    },
    {
      "cell_type": "markdown",
      "source": [
        "\n",
        "\n",
        "####**Categorical:**\n",
        "* Check for inconsistent categories.\n",
        "   *  *Check categorical columns for inconsistent data.*"
      ],
      "metadata": {
        "id": "Y1_qBhp8uAmH"
      }
    },
    {
      "cell_type": "markdown",
      "source": [
        " ### **Summary Statistics for Categorical Features**\n",
        "\n",
        "---"
      ],
      "metadata": {
        "id": "LCgrdSYB7ebz"
      }
    },
    {
      "cell_type": "code",
      "source": [
        "## display descriptive statistics for categorical columns\n",
        "df.describe(include=\"object\") # or 'number'"
      ],
      "metadata": {
        "colab": {
          "base_uri": "https://localhost:8080/",
          "height": 174
        },
        "id": "uqOHolWOuLia",
        "outputId": "c8cb1719-bca1-4710-fcef-71f0ac75da2a"
      },
      "execution_count": 16,
      "outputs": [
        {
          "output_type": "execute_result",
          "data": {
            "text/plain": [
              "           Attrition_Flag Gender Education_Level Marital_Status  \\\n",
              "count               10127  10127           10127          10127   \n",
              "unique                  2      2               7              4   \n",
              "top     Existing Customer      F        Graduate        Married   \n",
              "freq                 8500   5358            3128           4687   \n",
              "\n",
              "       Income_Category Card_Category  \n",
              "count            10127         10127  \n",
              "unique               6             4  \n",
              "top     Less than $40K          Blue  \n",
              "freq              3561          9436  "
            ],
            "text/html": [
              "\n",
              "  <div id=\"df-a53b5e5d-aa10-4faa-b581-b818d4d350af\">\n",
              "    <div class=\"colab-df-container\">\n",
              "      <div>\n",
              "<style scoped>\n",
              "    .dataframe tbody tr th:only-of-type {\n",
              "        vertical-align: middle;\n",
              "    }\n",
              "\n",
              "    .dataframe tbody tr th {\n",
              "        vertical-align: top;\n",
              "    }\n",
              "\n",
              "    .dataframe thead th {\n",
              "        text-align: right;\n",
              "    }\n",
              "</style>\n",
              "<table border=\"1\" class=\"dataframe\">\n",
              "  <thead>\n",
              "    <tr style=\"text-align: right;\">\n",
              "      <th></th>\n",
              "      <th>Attrition_Flag</th>\n",
              "      <th>Gender</th>\n",
              "      <th>Education_Level</th>\n",
              "      <th>Marital_Status</th>\n",
              "      <th>Income_Category</th>\n",
              "      <th>Card_Category</th>\n",
              "    </tr>\n",
              "  </thead>\n",
              "  <tbody>\n",
              "    <tr>\n",
              "      <th>count</th>\n",
              "      <td>10127</td>\n",
              "      <td>10127</td>\n",
              "      <td>10127</td>\n",
              "      <td>10127</td>\n",
              "      <td>10127</td>\n",
              "      <td>10127</td>\n",
              "    </tr>\n",
              "    <tr>\n",
              "      <th>unique</th>\n",
              "      <td>2</td>\n",
              "      <td>2</td>\n",
              "      <td>7</td>\n",
              "      <td>4</td>\n",
              "      <td>6</td>\n",
              "      <td>4</td>\n",
              "    </tr>\n",
              "    <tr>\n",
              "      <th>top</th>\n",
              "      <td>Existing Customer</td>\n",
              "      <td>F</td>\n",
              "      <td>Graduate</td>\n",
              "      <td>Married</td>\n",
              "      <td>Less than $40K</td>\n",
              "      <td>Blue</td>\n",
              "    </tr>\n",
              "    <tr>\n",
              "      <th>freq</th>\n",
              "      <td>8500</td>\n",
              "      <td>5358</td>\n",
              "      <td>3128</td>\n",
              "      <td>4687</td>\n",
              "      <td>3561</td>\n",
              "      <td>9436</td>\n",
              "    </tr>\n",
              "  </tbody>\n",
              "</table>\n",
              "</div>\n",
              "      <button class=\"colab-df-convert\" onclick=\"convertToInteractive('df-a53b5e5d-aa10-4faa-b581-b818d4d350af')\"\n",
              "              title=\"Convert this dataframe to an interactive table.\"\n",
              "              style=\"display:none;\">\n",
              "        \n",
              "  <svg xmlns=\"http://www.w3.org/2000/svg\" height=\"24px\"viewBox=\"0 0 24 24\"\n",
              "       width=\"24px\">\n",
              "    <path d=\"M0 0h24v24H0V0z\" fill=\"none\"/>\n",
              "    <path d=\"M18.56 5.44l.94 2.06.94-2.06 2.06-.94-2.06-.94-.94-2.06-.94 2.06-2.06.94zm-11 1L8.5 8.5l.94-2.06 2.06-.94-2.06-.94L8.5 2.5l-.94 2.06-2.06.94zm10 10l.94 2.06.94-2.06 2.06-.94-2.06-.94-.94-2.06-.94 2.06-2.06.94z\"/><path d=\"M17.41 7.96l-1.37-1.37c-.4-.4-.92-.59-1.43-.59-.52 0-1.04.2-1.43.59L10.3 9.45l-7.72 7.72c-.78.78-.78 2.05 0 2.83L4 21.41c.39.39.9.59 1.41.59.51 0 1.02-.2 1.41-.59l7.78-7.78 2.81-2.81c.8-.78.8-2.07 0-2.86zM5.41 20L4 18.59l7.72-7.72 1.47 1.35L5.41 20z\"/>\n",
              "  </svg>\n",
              "      </button>\n",
              "      \n",
              "  <style>\n",
              "    .colab-df-container {\n",
              "      display:flex;\n",
              "      flex-wrap:wrap;\n",
              "      gap: 12px;\n",
              "    }\n",
              "\n",
              "    .colab-df-convert {\n",
              "      background-color: #E8F0FE;\n",
              "      border: none;\n",
              "      border-radius: 50%;\n",
              "      cursor: pointer;\n",
              "      display: none;\n",
              "      fill: #1967D2;\n",
              "      height: 32px;\n",
              "      padding: 0 0 0 0;\n",
              "      width: 32px;\n",
              "    }\n",
              "\n",
              "    .colab-df-convert:hover {\n",
              "      background-color: #E2EBFA;\n",
              "      box-shadow: 0px 1px 2px rgba(60, 64, 67, 0.3), 0px 1px 3px 1px rgba(60, 64, 67, 0.15);\n",
              "      fill: #174EA6;\n",
              "    }\n",
              "\n",
              "    [theme=dark] .colab-df-convert {\n",
              "      background-color: #3B4455;\n",
              "      fill: #D2E3FC;\n",
              "    }\n",
              "\n",
              "    [theme=dark] .colab-df-convert:hover {\n",
              "      background-color: #434B5C;\n",
              "      box-shadow: 0px 1px 3px 1px rgba(0, 0, 0, 0.15);\n",
              "      filter: drop-shadow(0px 1px 2px rgba(0, 0, 0, 0.3));\n",
              "      fill: #FFFFFF;\n",
              "    }\n",
              "  </style>\n",
              "\n",
              "      <script>\n",
              "        const buttonEl =\n",
              "          document.querySelector('#df-a53b5e5d-aa10-4faa-b581-b818d4d350af button.colab-df-convert');\n",
              "        buttonEl.style.display =\n",
              "          google.colab.kernel.accessAllowed ? 'block' : 'none';\n",
              "\n",
              "        async function convertToInteractive(key) {\n",
              "          const element = document.querySelector('#df-a53b5e5d-aa10-4faa-b581-b818d4d350af');\n",
              "          const dataTable =\n",
              "            await google.colab.kernel.invokeFunction('convertToInteractive',\n",
              "                                                     [key], {});\n",
              "          if (!dataTable) return;\n",
              "\n",
              "          const docLinkHtml = 'Like what you see? Visit the ' +\n",
              "            '<a target=\"_blank\" href=https://colab.research.google.com/notebooks/data_table.ipynb>data table notebook</a>'\n",
              "            + ' to learn more about interactive tables.';\n",
              "          element.innerHTML = '';\n",
              "          dataTable['output_type'] = 'display_data';\n",
              "          await google.colab.output.renderOutput(dataTable, element);\n",
              "          const docLink = document.createElement('div');\n",
              "          docLink.innerHTML = docLinkHtml;\n",
              "          element.appendChild(docLink);\n",
              "        }\n",
              "      </script>\n",
              "    </div>\n",
              "  </div>\n",
              "  "
            ]
          },
          "metadata": {},
          "execution_count": 16
        }
      ]
    },
    {
      "cell_type": "code",
      "source": [
        "# find string data \n",
        "data_types = df.dtypes\n",
        "str_cols = data_types[data_types=='object'].index\n",
        "str_cols"
      ],
      "metadata": {
        "colab": {
          "base_uri": "https://localhost:8080/"
        },
        "id": "4gXHN04lvq4f",
        "outputId": "ae23de10-6612-46d8-a378-e7428e3d1991"
      },
      "execution_count": 17,
      "outputs": [
        {
          "output_type": "execute_result",
          "data": {
            "text/plain": [
              "Index(['Attrition_Flag', 'Gender', 'Education_Level', 'Marital_Status',\n",
              "       'Income_Category', 'Card_Category'],\n",
              "      dtype='object')"
            ]
          },
          "metadata": {},
          "execution_count": 17
        }
      ]
    },
    {
      "cell_type": "code",
      "source": [
        "# loop through string data to inspect for inconsistent values\n",
        "for col in str_cols:\n",
        "   print(f'= {col}:')\n",
        "   print(df[col].value_counts(dropna=False))\n",
        "   print(\"\\n\\n\")"
      ],
      "metadata": {
        "colab": {
          "base_uri": "https://localhost:8080/"
        },
        "id": "D94D--rRvzRK",
        "outputId": "16138935-60bd-4c89-c843-f7d0bf15d03f"
      },
      "execution_count": 18,
      "outputs": [
        {
          "output_type": "stream",
          "name": "stdout",
          "text": [
            "= Attrition_Flag:\n",
            "Existing Customer    8500\n",
            "Attrited Customer    1627\n",
            "Name: Attrition_Flag, dtype: int64\n",
            "\n",
            "\n",
            "\n",
            "= Gender:\n",
            "F    5358\n",
            "M    4769\n",
            "Name: Gender, dtype: int64\n",
            "\n",
            "\n",
            "\n",
            "= Education_Level:\n",
            "Graduate         3128\n",
            "High School      2013\n",
            "Unknown          1519\n",
            "Uneducated       1487\n",
            "College          1013\n",
            "Post-Graduate     516\n",
            "Doctorate         451\n",
            "Name: Education_Level, dtype: int64\n",
            "\n",
            "\n",
            "\n",
            "= Marital_Status:\n",
            "Married     4687\n",
            "Single      3943\n",
            "Unknown      749\n",
            "Divorced     748\n",
            "Name: Marital_Status, dtype: int64\n",
            "\n",
            "\n",
            "\n",
            "= Income_Category:\n",
            "Less than $40K    3561\n",
            "$40K - $60K       1790\n",
            "$80K - $120K      1535\n",
            "$60K - $80K       1402\n",
            "Unknown           1112\n",
            "$120K +            727\n",
            "Name: Income_Category, dtype: int64\n",
            "\n",
            "\n",
            "\n",
            "= Card_Category:\n",
            "Blue        9436\n",
            "Silver       555\n",
            "Gold         116\n",
            "Platinum      20\n",
            "Name: Card_Category, dtype: int64\n",
            "\n",
            "\n",
            "\n"
          ]
        }
      ]
    },
    {
      "cell_type": "markdown",
      "source": [
        "* **```Education_Level```**, **```Marital_Status```**, and **```Income_Category```** all have a category **'Unknown'**.\n",
        "   *  *This appears to be a missing or unknown value.*"
      ],
      "metadata": {
        "id": "hXYKC3nNyFl2"
      }
    },
    {
      "cell_type": "code",
      "source": [
        "# ? category for Education Level, Marital Status, & Income Category have category 'Unknown' => looks like missing or unknown values\n",
        "# replace as missing value\n",
        "df = df.replace('Unknown', np.nan)"
      ],
      "metadata": {
        "id": "L3m0Sje4xXOO"
      },
      "execution_count": 19,
      "outputs": []
    },
    {
      "cell_type": "markdown",
      "source": [
        "### **Missing Values**\n",
        "\n",
        "---\n",
        "\n"
      ],
      "metadata": {
        "id": "CiqXyy3RyEN5"
      }
    },
    {
      "cell_type": "code",
      "source": [
        "## display the total number of missing values\n",
        "print(f'There are {df.isna().sum().sum()} missing values.')"
      ],
      "metadata": {
        "colab": {
          "base_uri": "https://localhost:8080/"
        },
        "id": "Fm7FVtN1zQMV",
        "outputId": "e7bf83f3-c27d-4210-b08c-3510ec398de1"
      },
      "execution_count": 20,
      "outputs": [
        {
          "output_type": "stream",
          "name": "stdout",
          "text": [
            "There are 3380 missing values.\n"
          ]
        }
      ]
    },
    {
      "cell_type": "code",
      "source": [
        "## If there are missing values we could\n",
        "## Display the count of missing values by column\n",
        "print(df.isna().sum())"
      ],
      "metadata": {
        "colab": {
          "base_uri": "https://localhost:8080/"
        },
        "id": "3cX-8hxOzxPB",
        "outputId": "eb736723-7f1e-40e8-8770-c2293f47b369"
      },
      "execution_count": 21,
      "outputs": [
        {
          "output_type": "stream",
          "name": "stdout",
          "text": [
            "Attrition_Flag                                             0\n",
            "Customer_Age                                               0\n",
            "Gender                                                     0\n",
            "Dependent_count                                            0\n",
            "Education_Level                                         1519\n",
            "Marital_Status                                           749\n",
            "Income_Category                                         1112\n",
            "Card_Category                                              0\n",
            "Months_on_book                                             0\n",
            "Total_Relationship_Count                                   0\n",
            "Months_Inactive_12_mon                                     0\n",
            "Contacts_Count_12_mon                                      0\n",
            "Credit_Limit                                               0\n",
            "Total_Revolving_Bal                                        0\n",
            "Avg_Open_To_Buy                                            0\n",
            "Total_Amt_Chng_Q4_Q1                                       0\n",
            "Total_Trans_Amt                                            0\n",
            "Total_Trans_Ct                                             0\n",
            "Total_Ct_Chng_Q4_Q1                                        0\n",
            "Avg_Utilization_Ratio                                      0\n",
            "Naive_Bayes_Classifier_Attrition_Flag_Inactive_1Year       0\n",
            "Naive_Bayes_Classifier_Attrition_Flag_Inactive_2Year       0\n",
            "dtype: int64\n"
          ]
        }
      ]
    },
    {
      "cell_type": "code",
      "source": [
        "## display percentage of missing values by column\n",
        "print(df.isna().sum()/len(df)*100)"
      ],
      "metadata": {
        "colab": {
          "base_uri": "https://localhost:8080/"
        },
        "id": "TYIN9-kM0MEZ",
        "outputId": "605c57ef-f3ff-4094-b7b2-1a0f5fc14713"
      },
      "execution_count": 22,
      "outputs": [
        {
          "output_type": "stream",
          "name": "stdout",
          "text": [
            "Attrition_Flag                                           0.000000\n",
            "Customer_Age                                             0.000000\n",
            "Gender                                                   0.000000\n",
            "Dependent_count                                          0.000000\n",
            "Education_Level                                         14.999506\n",
            "Marital_Status                                           7.396070\n",
            "Income_Category                                         10.980547\n",
            "Card_Category                                            0.000000\n",
            "Months_on_book                                           0.000000\n",
            "Total_Relationship_Count                                 0.000000\n",
            "Months_Inactive_12_mon                                   0.000000\n",
            "Contacts_Count_12_mon                                    0.000000\n",
            "Credit_Limit                                             0.000000\n",
            "Total_Revolving_Bal                                      0.000000\n",
            "Avg_Open_To_Buy                                          0.000000\n",
            "Total_Amt_Chng_Q4_Q1                                     0.000000\n",
            "Total_Trans_Amt                                          0.000000\n",
            "Total_Trans_Ct                                           0.000000\n",
            "Total_Ct_Chng_Q4_Q1                                      0.000000\n",
            "Avg_Utilization_Ratio                                    0.000000\n",
            "Naive_Bayes_Classifier_Attrition_Flag_Inactive_1Year     0.000000\n",
            "Naive_Bayes_Classifier_Attrition_Flag_Inactive_2Year     0.000000\n",
            "dtype: float64\n"
          ]
        }
      ]
    },
    {
      "cell_type": "markdown",
      "source": [
        "* For ***Missing categorical values***, we'll need to impute with a Preprocessor for Machine Learning.\n",
        "   * **Education Level** : Plan to impute with most frequent value.\n",
        "      * *This will introduce error into model.*\n",
        "   * **Marital Status** : Plan to impute with most frequent value.\n",
        "      * *This will introduce error into model.*\n",
        "   * **Income Category** : Plan to impute with most frequent value.\n",
        "      * *This will introduce error into model.*\n"
      ],
      "metadata": {
        "id": "1pP0px1u0e9T"
      }
    },
    {
      "cell_type": "markdown",
      "source": [
        "# **EDA : Exploratory Visuals & Analysis**\n",
        "\n",
        "---\n",
        "\n",
        "* EDA allows us to explore our data, and get a better understanding of trends, features of the data.\n",
        "<br />\n",
        "<br />\n",
        "\n",
        "###**Numerical**\n",
        "\n",
        "\n",
        "---\n",
        "\n",
        "\n",
        "* For each numerical feature, we will plot the distribution, as well as a boxplot.\n",
        "* Boxplots will tell us if there are any outliers."
      ],
      "metadata": {
        "id": "vugAHcD_10oG"
      }
    },
    {
      "cell_type": "code",
      "source": [
        "# find numerical column names\n",
        "num_cols = df.select_dtypes('number').columns\n",
        "num_cols"
      ],
      "metadata": {
        "colab": {
          "base_uri": "https://localhost:8080/"
        },
        "id": "afumTN986olz",
        "outputId": "5ce5bdd8-7b72-4788-dc79-07d8e4073b85"
      },
      "execution_count": 23,
      "outputs": [
        {
          "output_type": "execute_result",
          "data": {
            "text/plain": [
              "Index(['Customer_Age', 'Dependent_count', 'Months_on_book',\n",
              "       'Total_Relationship_Count', 'Months_Inactive_12_mon',\n",
              "       'Contacts_Count_12_mon', 'Credit_Limit', 'Total_Revolving_Bal',\n",
              "       'Avg_Open_To_Buy', 'Total_Amt_Chng_Q4_Q1', 'Total_Trans_Amt',\n",
              "       'Total_Trans_Ct', 'Total_Ct_Chng_Q4_Q1', 'Avg_Utilization_Ratio',\n",
              "       'Naive_Bayes_Classifier_Attrition_Flag_Inactive_1Year',\n",
              "       'Naive_Bayes_Classifier_Attrition_Flag_Inactive_2Year'],\n",
              "      dtype='object')"
            ]
          },
          "metadata": {},
          "execution_count": 23
        }
      ]
    },
    {
      "cell_type": "code",
      "source": [
        "# set seaborn color style\n",
        "plt.style.use(['seaborn-pastel'])"
      ],
      "metadata": {
        "colab": {
          "base_uri": "https://localhost:8080/"
        },
        "id": "a2915RGm9Pv2",
        "outputId": "977e6929-96dd-409c-ccce-2b545a935c74"
      },
      "execution_count": 24,
      "outputs": [
        {
          "output_type": "stream",
          "name": "stderr",
          "text": [
            "<ipython-input-24-256eb2521925>:2: MatplotlibDeprecationWarning: The seaborn styles shipped by Matplotlib are deprecated since 3.6, as they no longer correspond to the styles shipped by seaborn. However, they will remain available as 'seaborn-v0_8-<style>'. Alternatively, directly use the seaborn API instead.\n",
            "  plt.style.use(['seaborn-pastel'])\n"
          ]
        }
      ]
    },
    {
      "cell_type": "code",
      "source": [
        "def plot_numeric(df,col):\n",
        "  \"\"\"EDA function to plot histogram and boxplot for selected column\"\"\"\n",
        "  # figure and axes share same x-axis\n",
        "  fig, axes = plt.subplots(nrows=2,figsize=(10,5),sharex=True)\n",
        "\n",
        "  # seaborn plots with axes[i]\n",
        "  sns.histplot(data=df,x=col,ax=axes[0])\n",
        "  # plot shows mean value\n",
        "  mean_value=df[col].mean()\n",
        "  axes[0].axvline(mean_value,color='purple',ls='--',\n",
        "                  label=f\"Mean Value = {mean_value:,.2f}\",);\n",
        "  # plot shows median value\n",
        "  median_value = df[col].median()\n",
        "  axes[0].axvline(median_value,color='k',ls='-',\n",
        "                  label=f\"Median Value = {median_value:,.2f}\");\n",
        "  axes[0].legend();\n",
        "  sns.boxplot(data=df, x = col, ax = axes[1])\n",
        " \n",
        "\n",
        "  # title for top graph\n",
        "  axes[0].set_title(f'EDA for {col}')\n",
        "  # format to save figure plot to not be cutoff\n",
        "  plt.tight_layout()\n",
        "  plt.show()"
      ],
      "metadata": {
        "id": "oEP3oGlk8TiQ"
      },
      "execution_count": 25,
      "outputs": []
    },
    {
      "cell_type": "markdown",
      "source": [
        "####**EDA for Customer Age**\n",
        "\n",
        "---\n",
        "\n"
      ],
      "metadata": {
        "id": "dO902_Vq9r-k"
      }
    },
    {
      "cell_type": "code",
      "source": [
        "plot_numeric(df,'Customer_Age')"
      ],
      "metadata": {
        "colab": {
          "base_uri": "https://localhost:8080/",
          "height": 369
        },
        "id": "3Jf1lfF78Wjl",
        "outputId": "a39f0f14-f76c-421b-9bec-68eeb2e0bb73"
      },
      "execution_count": 26,
      "outputs": [
        {
          "output_type": "display_data",
          "data": {
            "text/plain": [
              "<Figure size 720x360 with 2 Axes>"
            ],
            "image/png": "[encoded data removed]"
          },
          "metadata": {
            "needs_background": "light"
          }
        }
      ]
    },
    {
      "cell_type": "code",
      "source": [
        "age_sorted = df['Customer_Age'].sort_values(ascending=False)\n",
        "age_sorted.head()"
      ],
      "metadata": {
        "colab": {
          "base_uri": "https://localhost:8080/"
        },
        "id": "i13s69yTAnpY",
        "outputId": "5dfe3f29-ad08-4962-ca1f-9b8008098c92"
      },
      "execution_count": 27,
      "outputs": [
        {
          "output_type": "execute_result",
          "data": {
            "text/plain": [
              "251    73\n",
              "254    70\n",
              "198    68\n",
              "151    68\n",
              "432    67\n",
              "Name: Customer_Age, dtype: int64"
            ]
          },
          "metadata": {},
          "execution_count": 27
        }
      ]
    },
    {
      "cell_type": "markdown",
      "source": [
        "* Outlier Customer Age values of 73 & 70 are valid ages, not an improbable age in the dataset. \n",
        "* No ages will be dropped."
      ],
      "metadata": {
        "id": "Os56QI3pBDk_"
      }
    },
    {
      "cell_type": "markdown",
      "source": [
        "####**EDA for Dependent Count**\n",
        "\n",
        "---"
      ],
      "metadata": {
        "id": "TYyFLUPICKXj"
      }
    },
    {
      "cell_type": "code",
      "source": [
        "plot_numeric(df,'Dependent_count')"
      ],
      "metadata": {
        "colab": {
          "base_uri": "https://localhost:8080/",
          "height": 369
        },
        "id": "MCq4bQsd98ta",
        "outputId": "7f716ab6-c282-435e-85d0-c842883cda2f"
      },
      "execution_count": 28,
      "outputs": [
        {
          "output_type": "display_data",
          "data": {
            "text/plain": [
              "<Figure size 720x360 with 2 Axes>"
            ],
            "image/png": "[encoded data removed]"
          },
          "metadata": {
            "needs_background": "light"
          }
        }
      ]
    },
    {
      "cell_type": "markdown",
      "source": [
        "* Dependent count has a range of values of 0 to 5.\n",
        "* This is a reasonable dependent range."
      ],
      "metadata": {
        "id": "GcHKGQa990XC"
      }
    },
    {
      "cell_type": "markdown",
      "source": [
        "####**EDA for Months on the Books**\n",
        "\n",
        "---\n",
        "* *how long bank customer has been a customer*"
      ],
      "metadata": {
        "id": "Wr2yDH2BCHD5"
      }
    },
    {
      "cell_type": "code",
      "source": [
        "plot_numeric(df,'Months_on_book')"
      ],
      "metadata": {
        "colab": {
          "base_uri": "https://localhost:8080/",
          "height": 369
        },
        "id": "Pa1Us1VHEbQj",
        "outputId": "451f5fd7-d7fa-4318-dd47-d9c87e7d486d"
      },
      "execution_count": 29,
      "outputs": [
        {
          "output_type": "display_data",
          "data": {
            "text/plain": [
              "<Figure size 720x360 with 2 Axes>"
            ],
            "image/png": "[encoded data removed]"
          },
          "metadata": {
            "needs_background": "light"
          }
        }
      ]
    },
    {
      "cell_type": "code",
      "source": [
        "mthbooks_sorted = df['Months_on_book'].sort_values(ascending=False)\n",
        "mthbooks_sorted.head()"
      ],
      "metadata": {
        "colab": {
          "base_uri": "https://localhost:8080/"
        },
        "id": "HNNCAUalEyyb",
        "outputId": "4c380a4f-745a-43ed-c9d6-9cbefbf90899"
      },
      "execution_count": 30,
      "outputs": [
        {
          "output_type": "execute_result",
          "data": {
            "text/plain": [
              "1760    56\n",
              "2406    56\n",
              "177     56\n",
              "1330    56\n",
              "1321    56\n",
              "Name: Months_on_book, dtype: int64"
            ]
          },
          "metadata": {},
          "execution_count": 30
        }
      ]
    },
    {
      "cell_type": "code",
      "source": [
        "mthbooks_sorted.tail()"
      ],
      "metadata": {
        "colab": {
          "base_uri": "https://localhost:8080/"
        },
        "id": "NTRazytCFMXm",
        "outputId": "c60d64e5-cd16-4012-d6e0-16df19632af1"
      },
      "execution_count": 31,
      "outputs": [
        {
          "output_type": "execute_result",
          "data": {
            "text/plain": [
              "9625    13\n",
              "3841    13\n",
              "1852    13\n",
              "6925    13\n",
              "2977    13\n",
              "Name: Months_on_book, dtype: int64"
            ]
          },
          "metadata": {},
          "execution_count": 31
        }
      ]
    },
    {
      "cell_type": "markdown",
      "source": [
        "* Bank customers from 13 months up to 56 months or 4.67 years is a reasonable length of time."
      ],
      "metadata": {
        "id": "_xSIy7VqFXWP"
      }
    },
    {
      "cell_type": "markdown",
      "source": [
        "####**EDA for Total Number of Relationships with Credit Card Provider**\n",
        "\n",
        "---"
      ],
      "metadata": {
        "id": "WEe0-smvF7FR"
      }
    },
    {
      "cell_type": "code",
      "source": [
        "plot_numeric(df,'Total_Relationship_Count')"
      ],
      "metadata": {
        "colab": {
          "base_uri": "https://localhost:8080/",
          "height": 369
        },
        "id": "WjtfYTt7GKFW",
        "outputId": "ef7d6b56-9381-416b-8965-c899c8c4a753"
      },
      "execution_count": 32,
      "outputs": [
        {
          "output_type": "display_data",
          "data": {
            "text/plain": [
              "<Figure size 720x360 with 2 Axes>"
            ],
            "image/png": "[encoded data removed]"
          },
          "metadata": {
            "needs_background": "light"
          }
        }
      ]
    },
    {
      "cell_type": "markdown",
      "source": [
        "* A range from 1 to 6 relationships between bank customers and the credit card provider is a reasonable range."
      ],
      "metadata": {
        "id": "Ol6pw5e1Go3N"
      }
    },
    {
      "cell_type": "markdown",
      "source": [
        "####**EDA for Number of Months Bank Customer was Inactive in Last 12 Months**\n",
        "\n",
        "---"
      ],
      "metadata": {
        "id": "eMQ63FiFG0nW"
      }
    },
    {
      "cell_type": "code",
      "source": [
        "plot_numeric(df,'Months_Inactive_12_mon')"
      ],
      "metadata": {
        "colab": {
          "base_uri": "https://localhost:8080/",
          "height": 369
        },
        "id": "3CpYLYcFHAXv",
        "outputId": "fcef91ea-88f7-49f3-fce9-c3f179deb2ef"
      },
      "execution_count": 33,
      "outputs": [
        {
          "output_type": "display_data",
          "data": {
            "text/plain": [
              "<Figure size 720x360 with 2 Axes>"
            ],
            "image/png": "[encoded data removed]"
          },
          "metadata": {
            "needs_background": "light"
          }
        }
      ]
    },
    {
      "cell_type": "markdown",
      "source": [
        "* Bank customers not active between 0 and 6 months is a reasonable range."
      ],
      "metadata": {
        "id": "ItF7r6h2HlGv"
      }
    },
    {
      "cell_type": "markdown",
      "source": [
        "####**EDA for Number of Contacts Bank Customer had with Bank in Last 12 Months**\n",
        "\n",
        "---"
      ],
      "metadata": {
        "id": "bVoO6BoaIKQz"
      }
    },
    {
      "cell_type": "code",
      "source": [
        "plot_numeric(df,'Contacts_Count_12_mon')"
      ],
      "metadata": {
        "colab": {
          "base_uri": "https://localhost:8080/",
          "height": 369
        },
        "id": "55mNizHwHu9D",
        "outputId": "73cde7a6-70b5-44c7-98af-b80d01e37bf3"
      },
      "execution_count": 34,
      "outputs": [
        {
          "output_type": "display_data",
          "data": {
            "text/plain": [
              "<Figure size 720x360 with 2 Axes>"
            ],
            "image/png": "[encoded data removed]"
          },
          "metadata": {
            "needs_background": "light"
          }
        }
      ]
    },
    {
      "cell_type": "markdown",
      "source": [],
      "metadata": {
        "id": "lvTw563iUVyt"
      }
    },
    {
      "cell_type": "markdown",
      "source": [
        "####**EDA for Credit Limit**\n",
        "\n",
        "---"
      ],
      "metadata": {
        "id": "ZAvJM3V7KlJY"
      }
    },
    {
      "cell_type": "code",
      "source": [
        "plot_numeric(df,'Credit_Limit')"
      ],
      "metadata": {
        "colab": {
          "base_uri": "https://localhost:8080/",
          "height": 369
        },
        "id": "D_Hp30cBImNB",
        "outputId": "76da9290-6709-4320-c459-692ecf3c03c5"
      },
      "execution_count": 35,
      "outputs": [
        {
          "output_type": "display_data",
          "data": {
            "text/plain": [
              "<Figure size 720x360 with 2 Axes>"
            ],
            "image/png": "[encoded data removed]"
          },
          "metadata": {
            "needs_background": "light"
          }
        }
      ]
    },
    {
      "cell_type": "markdown",
      "source": [
        "* The Credit limit may correspond to the limit for the Blue Card Category, given it is the majority Card category.\n",
        "* The Higher limits may relate to the higher income card categories."
      ],
      "metadata": {
        "id": "FXYXe2c4Ue9O"
      }
    },
    {
      "cell_type": "markdown",
      "source": [
        "####**EDA for Total Revolving Balance**\n",
        "\n",
        "---"
      ],
      "metadata": {
        "id": "yPmNHgHxK9p4"
      }
    },
    {
      "cell_type": "code",
      "source": [
        "plot_numeric(df,'Total_Revolving_Bal')"
      ],
      "metadata": {
        "colab": {
          "base_uri": "https://localhost:8080/",
          "height": 369
        },
        "id": "SEhI3-WaIqGq",
        "outputId": "93b3b7c3-30d4-4321-f9ed-001c676bfc41"
      },
      "execution_count": 36,
      "outputs": [
        {
          "output_type": "display_data",
          "data": {
            "text/plain": [
              "<Figure size 720x360 with 2 Axes>"
            ],
            "image/png": "[encoded data removed]"
          },
          "metadata": {
            "needs_background": "light"
          }
        }
      ]
    },
    {
      "cell_type": "markdown",
      "source": [
        "####**EDA for Average Open to Buy Ratio**\n",
        "\n",
        "---"
      ],
      "metadata": {
        "id": "ruktLFY7LI-b"
      }
    },
    {
      "cell_type": "code",
      "source": [
        "plot_numeric(df,'Avg_Open_To_Buy')"
      ],
      "metadata": {
        "colab": {
          "base_uri": "https://localhost:8080/",
          "height": 369
        },
        "id": "8kNiwlgfJF2X",
        "outputId": "77d7dfb9-e618-48db-fd15-c73bfdf229eb"
      },
      "execution_count": 37,
      "outputs": [
        {
          "output_type": "display_data",
          "data": {
            "text/plain": [
              "<Figure size 720x360 with 2 Axes>"
            ],
            "image/png": "[encoded data removed]"
          },
          "metadata": {
            "needs_background": "light"
          }
        }
      ]
    },
    {
      "cell_type": "markdown",
      "source": [
        "####**EDA for Total Amount of Change from Q4 to Q1**\n",
        "\n",
        "---"
      ],
      "metadata": {
        "id": "OKD7PJd8LcFJ"
      }
    },
    {
      "cell_type": "code",
      "source": [
        "plot_numeric(df,'Total_Amt_Chng_Q4_Q1')"
      ],
      "metadata": {
        "colab": {
          "base_uri": "https://localhost:8080/",
          "height": 369
        },
        "id": "KXwPVYR0JIGW",
        "outputId": "5f9431bd-9695-486a-da7d-1da1903870c1"
      },
      "execution_count": 38,
      "outputs": [
        {
          "output_type": "display_data",
          "data": {
            "text/plain": [
              "<Figure size 720x360 with 2 Axes>"
            ],
            "image/png": "[encoded data removed]"
          },
          "metadata": {
            "needs_background": "light"
          }
        }
      ]
    },
    {
      "cell_type": "markdown",
      "source": [
        "####**EDA for Total Transaction Amount**\n",
        "\n",
        "---"
      ],
      "metadata": {
        "id": "-q7ezQMbL00w"
      }
    },
    {
      "cell_type": "code",
      "source": [
        "plot_numeric(df,'Total_Trans_Amt')"
      ],
      "metadata": {
        "colab": {
          "base_uri": "https://localhost:8080/",
          "height": 369
        },
        "id": "iTVoqMGuJJMU",
        "outputId": "b8753b32-3004-4da7-b0f9-f7aa29d0c973"
      },
      "execution_count": 39,
      "outputs": [
        {
          "output_type": "display_data",
          "data": {
            "text/plain": [
              "<Figure size 720x360 with 2 Axes>"
            ],
            "image/png": "[encoded data removed]"
          },
          "metadata": {
            "needs_background": "light"
          }
        }
      ]
    },
    {
      "cell_type": "markdown",
      "source": [
        "####**EDA for Total Transaction Count**\n",
        "\n",
        "---"
      ],
      "metadata": {
        "id": "g7qAMqOFMDQO"
      }
    },
    {
      "cell_type": "code",
      "source": [
        "plot_numeric(df,'Total_Trans_Ct')"
      ],
      "metadata": {
        "colab": {
          "base_uri": "https://localhost:8080/",
          "height": 369
        },
        "id": "6Lt0FeBVJe7_",
        "outputId": "68b874f8-3414-415a-cce1-c9a6405736dc"
      },
      "execution_count": 40,
      "outputs": [
        {
          "output_type": "display_data",
          "data": {
            "text/plain": [
              "<Figure size 720x360 with 2 Axes>"
            ],
            "image/png": "[encoded data removed]"
          },
          "metadata": {
            "needs_background": "light"
          }
        }
      ]
    },
    {
      "cell_type": "markdown",
      "source": [
        "####**EDA for Total Count Change from Q4 to Q1**\n",
        "\n",
        "---"
      ],
      "metadata": {
        "id": "GKXvLk80MKTP"
      }
    },
    {
      "cell_type": "code",
      "source": [
        "plot_numeric(df,'Total_Ct_Chng_Q4_Q1')"
      ],
      "metadata": {
        "colab": {
          "base_uri": "https://localhost:8080/",
          "height": 369
        },
        "id": "_dIvlqVkJfMb",
        "outputId": "47529d59-024b-4cb2-ba58-3e4b6999f7cf"
      },
      "execution_count": 41,
      "outputs": [
        {
          "output_type": "display_data",
          "data": {
            "text/plain": [
              "<Figure size 720x360 with 2 Axes>"
            ],
            "image/png": "[encoded data removed]"
          },
          "metadata": {
            "needs_background": "light"
          }
        }
      ]
    },
    {
      "cell_type": "markdown",
      "source": [
        "####**EDA for Average Utilization Ratio**\n",
        "\n",
        "---"
      ],
      "metadata": {
        "id": "3qww_kHwMaYK"
      }
    },
    {
      "cell_type": "code",
      "source": [
        "plot_numeric(df,'Avg_Utilization_Ratio')"
      ],
      "metadata": {
        "colab": {
          "base_uri": "https://localhost:8080/",
          "height": 369
        },
        "id": "kn_lE6uIJfcx",
        "outputId": "3655efd5-9801-46fa-d9a8-89de9a8e01f7"
      },
      "execution_count": 42,
      "outputs": [
        {
          "output_type": "display_data",
          "data": {
            "text/plain": [
              "<Figure size 720x360 with 2 Axes>"
            ],
            "image/png": "[encoded data removed]"
          },
          "metadata": {
            "needs_background": "light"
          }
        }
      ]
    },
    {
      "cell_type": "markdown",
      "source": [
        "* Average utilization ratio is 27%.\n",
        "* It would be good to compare those that exited bank to those who stayed with the bank."
      ],
      "metadata": {
        "id": "Y0F1pwFSU4-f"
      }
    },
    {
      "cell_type": "markdown",
      "source": [
        "###**Categorial EDA**\n",
        "\n",
        "---\n",
        "\n"
      ],
      "metadata": {
        "id": "GGUtPw4cVa1O"
      }
    },
    {
      "cell_type": "code",
      "source": [
        "# create function to plot a Countplot with hue of bank customers who churned\n",
        "def plot_count(data,x,hue,figsize=(10,5)):\n",
        "  # sets the figure size\n",
        "  fig, ax = plt.subplots(figsize=figsize)\n",
        "  \n",
        "  # determine the value counts for each category, sort in descending order\n",
        "  #counts = df[x].value_counts().sort_values(ascending=False).to_frame()\n",
        "\n",
        "  # plot barplot\n",
        "  sns.countplot(data=data, x=x, hue=hue,ax=ax)\n",
        "\n",
        "  # show x axis labels at 0 degrees so don't run together\n",
        "  plt.xticks(rotation=0)\n",
        "  # set title, x axis , & y axis\n",
        "  ax.set_title(f'Bank Customer Attrition By {x}',fontsize=20, fontweight='bold');\n",
        "  ax.set_xlabel(f'{x}', fontsize=15, fontweight = 'bold')\n",
        "  ax.set_ylabel('Counts',fontsize=15, fontweight='bold')\n",
        "  \n",
        "  return fig,ax"
      ],
      "metadata": {
        "id": "uO1Stlv1P9Mp"
      },
      "execution_count": 43,
      "outputs": []
    },
    {
      "cell_type": "code",
      "source": [
        "# find numerical column names\n",
        "cat_cols = df.select_dtypes('object').columns\n",
        "cat_cols"
      ],
      "metadata": {
        "colab": {
          "base_uri": "https://localhost:8080/"
        },
        "id": "tvJDdkpiQA0c",
        "outputId": "5fb52171-41f0-457c-8ce3-9be7c6aab51a"
      },
      "execution_count": 44,
      "outputs": [
        {
          "output_type": "execute_result",
          "data": {
            "text/plain": [
              "Index(['Attrition_Flag', 'Gender', 'Education_Level', 'Marital_Status',\n",
              "       'Income_Category', 'Card_Category'],\n",
              "      dtype='object')"
            ]
          },
          "metadata": {},
          "execution_count": 44
        }
      ]
    },
    {
      "cell_type": "code",
      "source": [
        "# plot Gender by Attrition Flag\n",
        "fig, ax = plot_count(df, x='Gender',hue='Attrition_Flag');\n",
        "plt.show()\n",
        "print(df['Gender'].value_counts(normalize=True))"
      ],
      "metadata": {
        "colab": {
          "base_uri": "https://localhost:8080/",
          "height": 412
        },
        "id": "dphbkl1tQaix",
        "outputId": "458e22f8-de15-4af7-ea13-008df013bb3b"
      },
      "execution_count": 45,
      "outputs": [
        {
          "output_type": "display_data",
          "data": {
            "text/plain": [
              "<Figure size 720x360 with 1 Axes>"
            ],
            "image/png": "[encoded data removed]"
          },
          "metadata": {
            "needs_background": "light"
          }
        },
        {
          "output_type": "stream",
          "name": "stdout",
          "text": [
            "F    0.529081\n",
            "M    0.470919\n",
            "Name: Gender, dtype: float64\n"
          ]
        }
      ]
    },
    {
      "cell_type": "markdown",
      "source": [
        "* Split of men to women who exited bank seems fairly balanced."
      ],
      "metadata": {
        "id": "qmQtmphSVksU"
      }
    },
    {
      "cell_type": "code",
      "source": [
        "# plot Education Level by Attrition Flag\n",
        "fig, ax = plot_count(df, x='Education_Level',hue='Attrition_Flag');\n",
        "plt.show()\n",
        "print(df['Education_Level'].value_counts(normalize=True))"
      ],
      "metadata": {
        "colab": {
          "base_uri": "https://localhost:8080/",
          "height": 482
        },
        "id": "5NV9LWZ-YbIB",
        "outputId": "b2b8c105-cb1a-49c4-cd0f-55b66f988186"
      },
      "execution_count": 46,
      "outputs": [
        {
          "output_type": "display_data",
          "data": {
            "text/plain": [
              "<Figure size 720x360 with 1 Axes>"
            ],
            "image/png": "[encoded data removed]"
          },
          "metadata": {
            "needs_background": "light"
          }
        },
        {
          "output_type": "stream",
          "name": "stdout",
          "text": [
            "Graduate         0.363383\n",
            "High School      0.233852\n",
            "Uneducated       0.172746\n",
            "College          0.117681\n",
            "Post-Graduate    0.059944\n",
            "Doctorate        0.052393\n",
            "Name: Education_Level, dtype: float64\n"
          ]
        }
      ]
    },
    {
      "cell_type": "markdown",
      "source": [
        "* Attrition of bank customers also appears not affected by Education Level."
      ],
      "metadata": {
        "id": "ZpVHGk2fV0Nj"
      }
    },
    {
      "cell_type": "code",
      "source": [
        "# plot Marital Status by Attrition Flag\n",
        "fig, ax = plot_count(df, x='Marital_Status',hue='Attrition_Flag');\n",
        "plt.show()\n",
        "print(df['Marital_Status'].value_counts(normalize=True))"
      ],
      "metadata": {
        "colab": {
          "base_uri": "https://localhost:8080/",
          "height": 430
        },
        "id": "zMKTBoUKZK9m",
        "outputId": "777ebb99-d4dd-4ce5-c3a8-fb38e0136b0a"
      },
      "execution_count": 47,
      "outputs": [
        {
          "output_type": "display_data",
          "data": {
            "text/plain": [
              "<Figure size 720x360 with 1 Axes>"
            ],
            "image/png": "[encoded data removed]"
          },
          "metadata": {
            "needs_background": "light"
          }
        },
        {
          "output_type": "stream",
          "name": "stdout",
          "text": [
            "Married     0.499787\n",
            "Single      0.420452\n",
            "Divorced    0.079761\n",
            "Name: Marital_Status, dtype: float64\n"
          ]
        }
      ]
    },
    {
      "cell_type": "markdown",
      "source": [
        "* Look into whether Divorced seems to affect bank churn."
      ],
      "metadata": {
        "id": "g4TPZpVUWAzv"
      }
    },
    {
      "cell_type": "code",
      "source": [
        "# plot Income Category by Attrition Flag\n",
        "fig, ax = plot_count(df, x='Income_Category',hue='Attrition_Flag');\n",
        "plt.show()\n",
        "print(df['Income_Category'].value_counts(normalize=True))"
      ],
      "metadata": {
        "colab": {
          "base_uri": "https://localhost:8080/",
          "height": 467
        },
        "id": "csv6UFpTZWi5",
        "outputId": "45987c8b-f50e-410d-f516-7449d8d55af5"
      },
      "execution_count": 48,
      "outputs": [
        {
          "output_type": "display_data",
          "data": {
            "text/plain": [
              "<Figure size 720x360 with 1 Axes>"
            ],
            "image/png": "[encoded data removed]"
          },
          "metadata": {
            "needs_background": "light"
          }
        },
        {
          "output_type": "stream",
          "name": "stdout",
          "text": [
            "Less than $40K    0.395008\n",
            "$40K - $60K       0.198558\n",
            "$80K - $120K      0.170272\n",
            "$60K - $80K       0.155519\n",
            "$120K +           0.080643\n",
            "Name: Income_Category, dtype: float64\n"
          ]
        }
      ]
    },
    {
      "cell_type": "markdown",
      "source": [
        "* Income category does not seem to correlate with bank churn."
      ],
      "metadata": {
        "id": "G-89T9cSWSLZ"
      }
    },
    {
      "cell_type": "code",
      "source": [
        "# plot Card Category by Attrition Flag\n",
        "fig, ax = plot_count(df, x='Card_Category',hue='Attrition_Flag');\n",
        "plt.show()\n",
        "print(df['Card_Category'].value_counts(normalize=True))"
      ],
      "metadata": {
        "colab": {
          "base_uri": "https://localhost:8080/",
          "height": 448
        },
        "id": "IoB2tmGBZwS_",
        "outputId": "f3bf93c5-a0b7-4b54-ea4e-54caae823a1a"
      },
      "execution_count": 49,
      "outputs": [
        {
          "output_type": "display_data",
          "data": {
            "text/plain": [
              "<Figure size 720x360 with 1 Axes>"
            ],
            "image/png": "[encoded data removed]"
          },
          "metadata": {
            "needs_background": "light"
          }
        },
        {
          "output_type": "stream",
          "name": "stdout",
          "text": [
            "Blue        0.931767\n",
            "Silver      0.054804\n",
            "Gold        0.011455\n",
            "Platinum    0.001975\n",
            "Name: Card_Category, dtype: float64\n"
          ]
        }
      ]
    },
    {
      "cell_type": "markdown",
      "source": [
        "### **Naive Bayes Classifier Exploration**\n",
        "\n",
        "---\n",
        "\n",
        "> A Naive Bayes model is a classification technique based on Bayes’ Theorem with an independence assumption among predictors. In simple terms, a Naive Bayes classifier assumes that the presence of a particular feature in a class is unrelated to the presence of any other feature.\n",
        "\n",
        "* [Naive Bayes Classifier article](https://www.analyticsvidhya.com/blog/2017/09/naive-bayes-explained/)"
      ],
      "metadata": {
        "id": "qPPnPkBlYQcm"
      }
    },
    {
      "cell_type": "markdown",
      "source": [
        "* The Blue Credit Card is the predominant card category, and reflects amount, not correlation to bank churn."
      ],
      "metadata": {
        "id": "sqdsy-TMWesI"
      }
    },
    {
      "cell_type": "code",
      "source": [
        "num_cols"
      ],
      "metadata": {
        "colab": {
          "base_uri": "https://localhost:8080/"
        },
        "id": "BA9R3l_vSEvv",
        "outputId": "7edd930e-dbcd-45f6-91eb-3e40afc83bbf"
      },
      "execution_count": 55,
      "outputs": [
        {
          "output_type": "execute_result",
          "data": {
            "text/plain": [
              "Index(['Customer_Age', 'Dependent_count', 'Months_on_book',\n",
              "       'Total_Relationship_Count', 'Months_Inactive_12_mon',\n",
              "       'Contacts_Count_12_mon', 'Credit_Limit', 'Total_Revolving_Bal',\n",
              "       'Avg_Open_To_Buy', 'Total_Amt_Chng_Q4_Q1', 'Total_Trans_Amt',\n",
              "       'Total_Trans_Ct', 'Total_Ct_Chng_Q4_Q1', 'Avg_Utilization_Ratio',\n",
              "       'Naive_Bayes_Classifier_Attrition_Flag_Inactive_1Year',\n",
              "       'Naive_Bayes_Classifier_Attrition_Flag_Inactive_2Year'],\n",
              "      dtype='object')"
            ]
          },
          "metadata": {},
          "execution_count": 55
        }
      ]
    },
    {
      "cell_type": "code",
      "source": [
        "df_subset1 = df[['Customer_Age', 'Dependent_count', 'Months_on_book','Total_Relationship_Count','Months_Inactive_12_mon',\n",
        "       'Contacts_Count_12_mon','Attrition_Flag']]\n",
        "sns.heatmap(df_subset1.corr(),annot=True,cmap='Purples');"
      ],
      "metadata": {
        "colab": {
          "base_uri": "https://localhost:8080/",
          "height": 385
        },
        "id": "KdEASJLoZ9mg",
        "outputId": "9558ebc3-2ee5-4750-84f1-b02b2a653229"
      },
      "execution_count": 57,
      "outputs": [
        {
          "output_type": "display_data",
          "data": {
            "text/plain": [
              "<Figure size 432x288 with 2 Axes>"
            ],
            "image/png": "[encoded data removed]"
          },
          "metadata": {
            "needs_background": "light"
          }
        }
      ]
    },
    {
      "cell_type": "code",
      "source": [
        "df_subset2 = df[['Credit_Limit', 'Total_Revolving_Bal',\n",
        "       'Avg_Open_To_Buy', 'Total_Amt_Chng_Q4_Q1', 'Total_Trans_Amt',\n",
        "       'Total_Trans_Ct', 'Total_Ct_Chng_Q4_Q1', 'Avg_Utilization_Ratio','Attrition_Flag']]\n",
        "sns.heatmap(df_subset2.corr(),annot=True,cmap='Purples');"
      ],
      "metadata": {
        "colab": {
          "base_uri": "https://localhost:8080/",
          "height": 377
        },
        "id": "aitlvFXATvPK",
        "outputId": "59d080a7-8a5e-4ed8-fd47-6380ba7ff51c"
      },
      "execution_count": 58,
      "outputs": [
        {
          "output_type": "display_data",
          "data": {
            "text/plain": [
              "<Figure size 432x288 with 2 Axes>"
            ],
            "image/png": "[encoded data removed]"
          },
          "metadata": {
            "needs_background": "light"
          }
        }
      ]
    },
    {
      "cell_type": "code",
      "source": [
        "df['Attrition_Flag'].value_counts()"
      ],
      "metadata": {
        "colab": {
          "base_uri": "https://localhost:8080/"
        },
        "id": "t3KHdN-gf_Na",
        "outputId": "f5e428e6-0e19-401d-e79e-84b5ae9ce29d"
      },
      "execution_count": 52,
      "outputs": [
        {
          "output_type": "execute_result",
          "data": {
            "text/plain": [
              "Existing Customer    8500\n",
              "Attrited Customer    1627\n",
              "Name: Attrition_Flag, dtype: int64"
            ]
          },
          "metadata": {},
          "execution_count": 52
        }
      ]
    }
  ]
}